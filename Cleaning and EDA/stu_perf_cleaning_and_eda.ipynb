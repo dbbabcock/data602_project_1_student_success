{
 "cells": [
  {
   "cell_type": "code",
   "execution_count": 2,
   "metadata": {},
   "outputs": [
    {
     "name": "stdout",
     "output_type": "stream",
     "text": [
      "Pandas version used: 1.0.5\n",
      "Seaborn version used: 0.10.1\n",
      "Matplotlib version used: 3.2.2\n"
     ]
    }
   ],
   "source": [
    "import pandas as pd\n",
    "import seaborn as sns\n",
    "import matplotlib\n",
    "import matplotlib.pyplot as plt\n",
    "print(\"Pandas version used: \" + pd.__version__)\n",
    "print(\"Seaborn version used: \" + sns.__version__)\n",
    "print(\"Matplotlib version used: \" + plt.matplotlib.__version__)"
   ]
  },
  {
   "cell_type": "code",
   "execution_count": 3,
   "metadata": {},
   "outputs": [],
   "source": [
    "# Read the dataset into a pandas dataframe:\n",
    "stu_perf_df = pd.read_csv('../Datasets/StudentsPerformance.csv')"
   ]
  },
  {
   "cell_type": "code",
   "execution_count": 4,
   "metadata": {},
   "outputs": [
    {
     "data": {
      "text/html": [
       "<div>\n",
       "<style scoped>\n",
       "    .dataframe tbody tr th:only-of-type {\n",
       "        vertical-align: middle;\n",
       "    }\n",
       "\n",
       "    .dataframe tbody tr th {\n",
       "        vertical-align: top;\n",
       "    }\n",
       "\n",
       "    .dataframe thead th {\n",
       "        text-align: right;\n",
       "    }\n",
       "</style>\n",
       "<table border=\"1\" class=\"dataframe\">\n",
       "  <thead>\n",
       "    <tr style=\"text-align: right;\">\n",
       "      <th></th>\n",
       "      <th>gender</th>\n",
       "      <th>race/ethnicity</th>\n",
       "      <th>parental level of education</th>\n",
       "      <th>lunch</th>\n",
       "      <th>test preparation course</th>\n",
       "      <th>math score</th>\n",
       "      <th>reading score</th>\n",
       "      <th>writing score</th>\n",
       "    </tr>\n",
       "  </thead>\n",
       "  <tbody>\n",
       "    <tr>\n",
       "      <th>0</th>\n",
       "      <td>female</td>\n",
       "      <td>group B</td>\n",
       "      <td>bachelor's degree</td>\n",
       "      <td>standard</td>\n",
       "      <td>none</td>\n",
       "      <td>72</td>\n",
       "      <td>72</td>\n",
       "      <td>74</td>\n",
       "    </tr>\n",
       "    <tr>\n",
       "      <th>1</th>\n",
       "      <td>female</td>\n",
       "      <td>group C</td>\n",
       "      <td>some college</td>\n",
       "      <td>standard</td>\n",
       "      <td>completed</td>\n",
       "      <td>69</td>\n",
       "      <td>90</td>\n",
       "      <td>88</td>\n",
       "    </tr>\n",
       "    <tr>\n",
       "      <th>2</th>\n",
       "      <td>female</td>\n",
       "      <td>group B</td>\n",
       "      <td>master's degree</td>\n",
       "      <td>standard</td>\n",
       "      <td>none</td>\n",
       "      <td>90</td>\n",
       "      <td>95</td>\n",
       "      <td>93</td>\n",
       "    </tr>\n",
       "    <tr>\n",
       "      <th>3</th>\n",
       "      <td>male</td>\n",
       "      <td>group A</td>\n",
       "      <td>associate's degree</td>\n",
       "      <td>free/reduced</td>\n",
       "      <td>none</td>\n",
       "      <td>47</td>\n",
       "      <td>57</td>\n",
       "      <td>44</td>\n",
       "    </tr>\n",
       "    <tr>\n",
       "      <th>4</th>\n",
       "      <td>male</td>\n",
       "      <td>group C</td>\n",
       "      <td>some college</td>\n",
       "      <td>standard</td>\n",
       "      <td>none</td>\n",
       "      <td>76</td>\n",
       "      <td>78</td>\n",
       "      <td>75</td>\n",
       "    </tr>\n",
       "  </tbody>\n",
       "</table>\n",
       "</div>"
      ],
      "text/plain": [
       "   gender race/ethnicity parental level of education         lunch  \\\n",
       "0  female        group B           bachelor's degree      standard   \n",
       "1  female        group C                some college      standard   \n",
       "2  female        group B             master's degree      standard   \n",
       "3    male        group A          associate's degree  free/reduced   \n",
       "4    male        group C                some college      standard   \n",
       "\n",
       "  test preparation course  math score  reading score  writing score  \n",
       "0                    none          72             72             74  \n",
       "1               completed          69             90             88  \n",
       "2                    none          90             95             93  \n",
       "3                    none          47             57             44  \n",
       "4                    none          76             78             75  "
      ]
     },
     "execution_count": 4,
     "metadata": {},
     "output_type": "execute_result"
    }
   ],
   "source": [
    "# Look at the first few rows of the dataset:\n",
    "stu_perf_df.head()"
   ]
  },
  {
   "cell_type": "code",
   "execution_count": 5,
   "metadata": {},
   "outputs": [
    {
     "name": "stdout",
     "output_type": "stream",
     "text": [
      "<class 'pandas.core.frame.DataFrame'>\n",
      "RangeIndex: 1000 entries, 0 to 999\n",
      "Data columns (total 8 columns):\n",
      " #   Column                       Non-Null Count  Dtype \n",
      "---  ------                       --------------  ----- \n",
      " 0   gender                       1000 non-null   object\n",
      " 1   race/ethnicity               1000 non-null   object\n",
      " 2   parental level of education  1000 non-null   object\n",
      " 3   lunch                        1000 non-null   object\n",
      " 4   test preparation course      1000 non-null   object\n",
      " 5   math score                   1000 non-null   int64 \n",
      " 6   reading score                1000 non-null   int64 \n",
      " 7   writing score                1000 non-null   int64 \n",
      "dtypes: int64(3), object(5)\n",
      "memory usage: 62.6+ KB\n"
     ]
    }
   ],
   "source": [
    "# Look at some information about the dataset, how many rows, and what data types:\n",
    "stu_perf_df.info()"
   ]
  },
  {
   "cell_type": "code",
   "execution_count": 6,
   "metadata": {},
   "outputs": [
    {
     "data": {
      "text/plain": [
       "gender                         0\n",
       "race/ethnicity                 0\n",
       "parental level of education    0\n",
       "lunch                          0\n",
       "test preparation course        0\n",
       "math score                     0\n",
       "reading score                  0\n",
       "writing score                  0\n",
       "dtype: int64"
      ]
     },
     "execution_count": 6,
     "metadata": {},
     "output_type": "execute_result"
    }
   ],
   "source": [
    "# Check to see if there are any null values:\n",
    "stu_perf_df.isnull().sum()"
   ]
  },
  {
   "cell_type": "code",
   "execution_count": 26,
   "metadata": {},
   "outputs": [
    {
     "name": "stdout",
     "output_type": "stream",
     "text": [
      "sex:\n",
      "['female' 'male']\n",
      "ethnicity:\n",
      "['group B' 'group C' 'group A' 'group D' 'group E']\n",
      "parent_ed:\n",
      "[\"bachelor's degree\" 'some college' \"master's degree\" \"associate's degree\"\n",
      " 'high school' 'some high school']\n",
      "lunch:\n",
      "['standard' 'free/reduced']\n",
      "test_prep:\n",
      "['none' 'completed']\n",
      "math_score:\n",
      "[ 72  69  90  47  76  71  88  40  64  38  58  65  78  50  18  46  54  66\n",
      "  44  74  73  67  70  62  63  56  97  81  75  57  55  53  59  82  77  33\n",
      "  52   0  79  39  45  60  61  41  49  30  80  42  27  43  68  85  98  87\n",
      "  51  99  84  91  83  89  22 100  96  94  48  35  34  86  92  37  28  24\n",
      "  26  95  36  29  32  93  19  23   8]\n",
      "reading_score:\n",
      "[ 72  90  95  57  78  83  43  64  60  54  52  81  53  75  89  32  42  58\n",
      "  69  73  71  74  70  65  87  56  61  84  55  44  41  85  59  17  39  80\n",
      "  37  63  51  49  26  68  45  47  86  34  79  66  67  91 100  76  77  82\n",
      "  92  93  62  88  50  28  48  46  23  38  94  97  99  31  96  24  29  40]\n",
      "writing_score:\n",
      "[ 74  88  93  44  75  78  92  39  67  50  52  43  73  70  58  86  28  46\n",
      "  61  63  53  80  72  55  65  38  82  79  83  59  57  54  68  66  62  76\n",
      "  48  42  87  49  10  34  71  37  56  41  22  81  45  36  89  47  90 100\n",
      "  64  98  51  40  84  69  33  60  85  91  77  27  94  95  19  35  32  96\n",
      "  97  99  15  30  23]\n",
      "avg_score:\n",
      "[ 72.67  82.33  92.67  49.33  76.33  77.33  91.67  40.67  65.    54.67\n",
      "  45.    73.    73.33  53.67  74.    87.67  26.    44.67  57.67  66.\n",
      "  70.    50.33  71.67  75.    59.33  70.33  68.33  69.    72.33  63.\n",
      "  64.33  40.    88.67  80.33  79.33  84.33  56.67  66.33  58.67  63.33\n",
      "  53.33  60.67  71.    82.67  52.    71.33  46.33  80.67  39.    58.33\n",
      "   9.    37.33  64.    39.67  68.67  64.67  60.33  46.67  58.    41.\n",
      "  79.67  48.67  38.33  78.33  72.    32.33  73.67  46.    85.67  62.33\n",
      "  88.33  91.33  65.67  95.67  88.    55.33  51.33  54.33  99.67  86.67\n",
      "  90.67  78.67  89.33  85.    43.33  77.    80.    76.    67.    61.67\n",
      "  49.    31.33  74.67  97.67  70.67  50.    60.    78.    98.67  51.67\n",
      "  82.    66.67  86.33  52.67  61.33  99.    68.    65.33  48.33  84.\n",
      "  56.    54.    51.    77.67  79.    74.33  47.33  30.    55.67  81.67\n",
      "  63.67  92.33  43.67  83.    52.33  81.33  75.67  94.    49.67  90.\n",
      "  62.    75.33  43.    89.    76.67  45.33  61.    67.33  83.33  67.67\n",
      "  23.33  57.    90.33  47.67  29.67  59.    59.67  31.    62.67  93.33\n",
      "  44.    41.33  89.67  56.33  55.    85.33  57.33  38.    96.33 100.\n",
      "  86.    87.33  31.67  69.67  81.    91.    92.    87.    69.33  34.67\n",
      "  97.33  93.    97.    23.    29.33  83.67  50.67  48.    53.    37.67\n",
      "  84.67  38.67  42.33  42.    39.33  47.    45.67  34.33  96.67  93.67\n",
      "  96.    30.67  44.33  18.33]\n"
     ]
    }
   ],
   "source": [
    "# Make sure we have expected values for the feature columns and that there's nothing out of the ordinary:\n",
    "# For each column, print out the column header and all of the distinct values within it:\n",
    "for col in stu_perf_df.columns:\n",
    "    print(str(col) + \":\\n\" + str(stu_perf_df[col].unique()))"
   ]
  },
  {
   "cell_type": "markdown",
   "metadata": {},
   "source": [
    "<h3>Thankfully there are no null values and all of the inputs match the expectations of their respective columns. Now to give the columns better names and then work on visualizing some of the data in its raw form before performing one-hot encoding for the categorical features:"
   ]
  },
  {
   "cell_type": "markdown",
   "metadata": {},
   "source": [
    "<h3>The index has no name and some of the column names are too long or include spaces which will make things difficult. These will need to be renamed along with several other changes:"
   ]
  },
  {
   "cell_type": "code",
   "execution_count": 27,
   "metadata": {},
   "outputs": [],
   "source": [
    "# Let's give the index a name ('stu_id') and then shorten some of the column names and add\n",
    "# underscores to the ones that need them:\n",
    "stu_perf_df.index.name = 'stu_id'\n",
    "stu_perf_df.rename(columns={'gender':'sex',\n",
    "                            'race/ethnicity':'ethnicity',\n",
    "                            'parental level of education':'parent_ed',\n",
    "                            'test preparation course':'test_prep',\n",
    "                            'math score':'math_score',\n",
    "                            'reading score':'reading_score',\n",
    "                            'writing score':'writing_score'}, inplace=True)"
   ]
  },
  {
   "cell_type": "markdown",
   "metadata": {},
   "source": [
    "<h3>I also want to create an average_score column that will serve as the main target variable. We can then look to see if individual subject scores are better predicted by these features later:"
   ]
  },
  {
   "cell_type": "code",
   "execution_count": 9,
   "metadata": {},
   "outputs": [],
   "source": [
    "# Add the math, reading, and writing scores together and then divide them by 3 to get an average total score:\n",
    "stu_perf_df['avg_score'] = ((stu_perf_df['math_score'] + stu_perf_df['reading_score'] + stu_perf_df['writing_score'])/3)\n",
    "\n",
    "# Round the Avg. Score to just 2 decimal places. Assuming precision beyond 2 digits is not useful and rather just confusing:\n",
    "stu_perf_df.avg_score = stu_perf_df.avg_score.round(2)"
   ]
  },
  {
   "cell_type": "code",
   "execution_count": 25,
   "metadata": {},
   "outputs": [
    {
     "data": {
      "text/html": [
       "<div>\n",
       "<style scoped>\n",
       "    .dataframe tbody tr th:only-of-type {\n",
       "        vertical-align: middle;\n",
       "    }\n",
       "\n",
       "    .dataframe tbody tr th {\n",
       "        vertical-align: top;\n",
       "    }\n",
       "\n",
       "    .dataframe thead th {\n",
       "        text-align: right;\n",
       "    }\n",
       "</style>\n",
       "<table border=\"1\" class=\"dataframe\">\n",
       "  <thead>\n",
       "    <tr style=\"text-align: right;\">\n",
       "      <th></th>\n",
       "      <th>sex</th>\n",
       "      <th>ethnicity</th>\n",
       "      <th>parent_ed</th>\n",
       "      <th>lunch</th>\n",
       "      <th>test_prep</th>\n",
       "      <th>math_score</th>\n",
       "      <th>reading_score</th>\n",
       "      <th>writing_score</th>\n",
       "      <th>avg_score</th>\n",
       "    </tr>\n",
       "    <tr>\n",
       "      <th>stu_id</th>\n",
       "      <th></th>\n",
       "      <th></th>\n",
       "      <th></th>\n",
       "      <th></th>\n",
       "      <th></th>\n",
       "      <th></th>\n",
       "      <th></th>\n",
       "      <th></th>\n",
       "      <th></th>\n",
       "    </tr>\n",
       "  </thead>\n",
       "  <tbody>\n",
       "    <tr>\n",
       "      <th>0</th>\n",
       "      <td>female</td>\n",
       "      <td>group B</td>\n",
       "      <td>bachelor's degree</td>\n",
       "      <td>standard</td>\n",
       "      <td>none</td>\n",
       "      <td>72</td>\n",
       "      <td>72</td>\n",
       "      <td>74</td>\n",
       "      <td>72.67</td>\n",
       "    </tr>\n",
       "    <tr>\n",
       "      <th>1</th>\n",
       "      <td>female</td>\n",
       "      <td>group C</td>\n",
       "      <td>some college</td>\n",
       "      <td>standard</td>\n",
       "      <td>completed</td>\n",
       "      <td>69</td>\n",
       "      <td>90</td>\n",
       "      <td>88</td>\n",
       "      <td>82.33</td>\n",
       "    </tr>\n",
       "    <tr>\n",
       "      <th>2</th>\n",
       "      <td>female</td>\n",
       "      <td>group B</td>\n",
       "      <td>master's degree</td>\n",
       "      <td>standard</td>\n",
       "      <td>none</td>\n",
       "      <td>90</td>\n",
       "      <td>95</td>\n",
       "      <td>93</td>\n",
       "      <td>92.67</td>\n",
       "    </tr>\n",
       "    <tr>\n",
       "      <th>3</th>\n",
       "      <td>male</td>\n",
       "      <td>group A</td>\n",
       "      <td>associate's degree</td>\n",
       "      <td>free/reduced</td>\n",
       "      <td>none</td>\n",
       "      <td>47</td>\n",
       "      <td>57</td>\n",
       "      <td>44</td>\n",
       "      <td>49.33</td>\n",
       "    </tr>\n",
       "    <tr>\n",
       "      <th>4</th>\n",
       "      <td>male</td>\n",
       "      <td>group C</td>\n",
       "      <td>some college</td>\n",
       "      <td>standard</td>\n",
       "      <td>none</td>\n",
       "      <td>76</td>\n",
       "      <td>78</td>\n",
       "      <td>75</td>\n",
       "      <td>76.33</td>\n",
       "    </tr>\n",
       "  </tbody>\n",
       "</table>\n",
       "</div>"
      ],
      "text/plain": [
       "           sex ethnicity           parent_ed         lunch  test_prep  \\\n",
       "stu_id                                                                  \n",
       "0       female   group B   bachelor's degree      standard       none   \n",
       "1       female   group C        some college      standard  completed   \n",
       "2       female   group B     master's degree      standard       none   \n",
       "3         male   group A  associate's degree  free/reduced       none   \n",
       "4         male   group C        some college      standard       none   \n",
       "\n",
       "        math_score  reading_score  writing_score  avg_score  \n",
       "stu_id                                                       \n",
       "0               72             72             74      72.67  \n",
       "1               69             90             88      82.33  \n",
       "2               90             95             93      92.67  \n",
       "3               47             57             44      49.33  \n",
       "4               76             78             75      76.33  "
      ]
     },
     "execution_count": 25,
     "metadata": {},
     "output_type": "execute_result"
    }
   ],
   "source": [
    "# Let's make sure the avg_score column turned out properly:\n",
    "stu_perf_df.head()"
   ]
  },
  {
   "cell_type": "markdown",
   "metadata": {},
   "source": [
    "<h3>The columns are in much better shape, so now to begin visualizing some of the raw data:"
   ]
  },
  {
   "cell_type": "code",
   "execution_count": 29,
   "metadata": {},
   "outputs": [
    {
     "data": {
      "text/plain": [
       "[<matplotlib.lines.Line2D at 0x155ca473670>]"
      ]
     },
     "execution_count": 29,
     "metadata": {},
     "output_type": "execute_result"
    },
    {
     "data": {
      "image/png": "[encoded data removed]",
      "text/plain": [
       "<Figure size 720x432 with 1 Axes>"
      ]
     },
     "metadata": {
      "needs_background": "light"
     },
     "output_type": "display_data"
    }
   ],
   "source": [
    "# Let's begin with a scatterplot of the average test score and a line showing the mean:\n",
    "fig = plt.subplots(figsize=(10,6))\n",
    "x = stu_perf_df.index\n",
    "y = stu_perf_df['avg_score']\n",
    "plt.title('Average Test Score Per Student')\n",
    "# Draw a line at the mean of the avg_score\n",
    "plt.axhline(y=y.mean(), c='r', lw=4, label='Mean Score: ' + str(round(y.mean(), 2)))\n",
    "plt.legend()\n",
    "plt.xlabel('Student')\n",
    "plt.ylabel('Avg. Test Score')\n",
    "plt.plot(x, y, 'o')"
   ]
  },
  {
   "cell_type": "markdown",
   "metadata": {},
   "source": [
    "<h3>The mean of the average test scores is 67.77. At least most of the students seem to have passed. Now for each individual subject:"
   ]
  },
  {
   "cell_type": "code",
   "execution_count": 31,
   "metadata": {},
   "outputs": [
    {
     "data": {
      "text/plain": [
       "Text(0.5, 1.0, 'Writing Scores for All Students')"
      ]
     },
     "execution_count": 31,
     "metadata": {},
     "output_type": "execute_result"
    },
    {
     "data": {
      "image/png": "[encoded data removed]",
      "text/plain": [
       "<Figure size 864x864 with 3 Axes>"
      ]
     },
     "metadata": {
      "needs_background": "light"
     },
     "output_type": "display_data"
    }
   ],
   "source": [
    "# Build a figure that shows all 3 scores (Math, Reading, and Writing) together along with their respective means:\n",
    "\n",
    "# Create the variables to represent the 'y' axis of each respective graph:\n",
    "m = stu_perf_df['math_score']\n",
    "r = stu_perf_df['reading_score']\n",
    "w = stu_perf_df['writing_score']\n",
    "\n",
    "# Generate the subplots and figure aspects:\n",
    "fig, (ax1, ax2, ax3) = plt.subplots(3, 1, figsize=(12,12))\n",
    "fig.suptitle('Math, Reading, and Writing Scores for All Students')\n",
    "ax1.plot(x, m, 'o')\n",
    "ax1.axhline(y=m.mean(), c='r', lw=4, label='Mean Math Score: ' + str(round(m.mean(), 2)))\n",
    "ax1.legend()\n",
    "ax1.set_ylabel('Score')\n",
    "ax1.set_title('Math Scores for All Students')\n",
    "ax2.plot(x, r, 'o')\n",
    "ax2.axhline(y=r.mean(), c='r', lw=4, label='Mean Reading Score: ' + str(round(r.mean(), 2)))\n",
    "ax2.legend()\n",
    "ax2.set_ylabel('Score')\n",
    "ax2.set_title('Reading Scores for All Students')\n",
    "ax3.plot(x, w, 'o')\n",
    "ax3.axhline(y=w.mean(), c='r', lw=4, label='Mean Writing Score: ' + str(round(w.mean(), 2)))\n",
    "ax3.legend()\n",
    "ax3.set_ylabel('Score')\n",
    "ax3.set_title('Writing Scores for All Students')"
   ]
  },
  {
   "cell_type": "markdown",
   "metadata": {},
   "source": [
    "<h3>The mean score for the Math test was the lowest (66.09) while the mean score for the Reading test was highest (69.17). The mean for the writing test was 68.05. Now to look at what factors seem to contribute to higher or lower test scores:"
   ]
  },
  {
   "cell_type": "markdown",
   "metadata": {},
   "source": [
    "<h3>Each of the features need to be explored thoroughly, as intuitively any of them could have an impact on the test scores, even if not directly. For example, the ethnicity and lunch features might indicate a socioeconomic impact on test scores."
   ]
  },
  {
   "cell_type": "code",
   "execution_count": 11,
   "metadata": {},
   "outputs": [
    {
     "data": {
      "text/plain": [
       "Text(0.5, 1.0, 'Average Total Test Score vs. Ethnicity and Sex')"
      ]
     },
     "execution_count": 11,
     "metadata": {},
     "output_type": "execute_result"
    },
    {
     "data": {
      "image/png": "[encoded data removed]",
      "text/plain": [
       "<Figure size 720x720 with 1 Axes>"
      ]
     },
     "metadata": {
      "needs_background": "light"
     },
     "output_type": "display_data"
    }
   ],
   "source": [
    "fig = plt.subplots(figsize=(10,10))\n",
    "# Add gender as a hue using the sex_female dummy variable. 0 is male, 1 is female:\n",
    "sns.barplot(x ='ethnicity',\n",
    "            y ='avg_score',\n",
    "            data = stu_perf_df,\n",
    "            order = ['group A', 'group B', 'group C', 'group D', 'group E'],\n",
    "            hue='sex')\n",
    "plt.title(\"Average Total Test Score vs. Ethnicity and Sex\", fontdict={'fontsize':20})"
   ]
  },
  {
   "cell_type": "markdown",
   "metadata": {},
   "source": [
    "<h3>"
   ]
  },
  {
   "cell_type": "code",
   "execution_count": 12,
   "metadata": {},
   "outputs": [
    {
     "data": {
      "text/plain": [
       "Text(0.5, 1.0, 'Average Total Score vs. Ethnicity and Lunch Status')"
      ]
     },
     "execution_count": 12,
     "metadata": {},
     "output_type": "execute_result"
    },
    {
     "data": {
      "image/png": "[encoded data removed]",
      "text/plain": [
       "<Figure size 720x720 with 1 Axes>"
      ]
     },
     "metadata": {
      "needs_background": "light"
     },
     "output_type": "display_data"
    }
   ],
   "source": [
    "fig = plt.subplots(figsize=(10,10))\n",
    "# Add gender as a hue using the sex_female dummy variable. 0 is male, 1 is female:\n",
    "sns.barplot(x ='ethnicity', y ='avg_score', data = stu_perf_df, hue='lunch')\n",
    "plt.title(\"Average Total Score vs. Ethnicity and Lunch Status\", fontdict={'fontsize':20})"
   ]
  },
  {
   "cell_type": "code",
   "execution_count": 13,
   "metadata": {},
   "outputs": [
    {
     "data": {
      "text/plain": [
       "Text(0.5, 1.0, 'Average Total Score vs. Parental Education and Sex')"
      ]
     },
     "execution_count": 13,
     "metadata": {},
     "output_type": "execute_result"
    },
    {
     "data": {
      "image/png": "[encoded data removed]",
      "text/plain": [
       "<Figure size 720x720 with 1 Axes>"
      ]
     },
     "metadata": {
      "needs_background": "light"
     },
     "output_type": "display_data"
    }
   ],
   "source": [
    "\n",
    "fig = plt.subplots(figsize=(10,10))\n",
    "sns.barplot(x='parent_ed',\n",
    "            y='avg_score',\n",
    "            order=['some high school', 'high school', 'some college', 'associate\\'s degree',\n",
    "                   'bachelor\\'s degree', 'master\\'s degree'],\n",
    "            data=stu_perf_df,\n",
    "            hue='sex')\n",
    "plt.title(\"Average Total Score vs. Parental Education and Sex\", fontdict={'fontsize':20})"
   ]
  },
  {
   "cell_type": "code",
   "execution_count": 14,
   "metadata": {},
   "outputs": [
    {
     "data": {
      "text/plain": [
       "Text(0.5, 1.0, 'Average Total Score vs. Parental Education and Lunch Status')"
      ]
     },
     "execution_count": 14,
     "metadata": {},
     "output_type": "execute_result"
    },
    {
     "data": {
      "image/png": "[encoded data removed]",
      "text/plain": [
       "<Figure size 720x720 with 1 Axes>"
      ]
     },
     "metadata": {
      "needs_background": "light"
     },
     "output_type": "display_data"
    }
   ],
   "source": [
    "fig = plt.subplots(figsize=(10,10))\n",
    "sns.barplot(x='parent_ed',\n",
    "            y='avg_score',\n",
    "            order=['some high school', 'high school', 'some college', 'associate\\'s degree',\n",
    "                   'bachelor\\'s degree', 'master\\'s degree'],\n",
    "            data=stu_perf_df,\n",
    "            hue='lunch')\n",
    "plt.title(\"Average Total Score vs. Parental Education and Lunch Status\", fontdict={'fontsize':20})"
   ]
  },
  {
   "cell_type": "code",
   "execution_count": 15,
   "metadata": {},
   "outputs": [
    {
     "data": {
      "text/html": [
       "<div>\n",
       "<style scoped>\n",
       "    .dataframe tbody tr th:only-of-type {\n",
       "        vertical-align: middle;\n",
       "    }\n",
       "\n",
       "    .dataframe tbody tr th {\n",
       "        vertical-align: top;\n",
       "    }\n",
       "\n",
       "    .dataframe thead th {\n",
       "        text-align: right;\n",
       "    }\n",
       "</style>\n",
       "<table border=\"1\" class=\"dataframe\">\n",
       "  <thead>\n",
       "    <tr style=\"text-align: right;\">\n",
       "      <th></th>\n",
       "      <th>sex</th>\n",
       "      <th>ethnicity</th>\n",
       "      <th>parent_ed</th>\n",
       "      <th>lunch</th>\n",
       "      <th>test_prep</th>\n",
       "      <th>math_score</th>\n",
       "      <th>reading_score</th>\n",
       "      <th>writing_score</th>\n",
       "      <th>avg_score</th>\n",
       "    </tr>\n",
       "    <tr>\n",
       "      <th>stu_id</th>\n",
       "      <th></th>\n",
       "      <th></th>\n",
       "      <th></th>\n",
       "      <th></th>\n",
       "      <th></th>\n",
       "      <th></th>\n",
       "      <th></th>\n",
       "      <th></th>\n",
       "      <th></th>\n",
       "    </tr>\n",
       "  </thead>\n",
       "  <tbody>\n",
       "    <tr>\n",
       "      <th>0</th>\n",
       "      <td>female</td>\n",
       "      <td>group B</td>\n",
       "      <td>bachelor's degree</td>\n",
       "      <td>standard</td>\n",
       "      <td>none</td>\n",
       "      <td>72</td>\n",
       "      <td>72</td>\n",
       "      <td>74</td>\n",
       "      <td>72.67</td>\n",
       "    </tr>\n",
       "    <tr>\n",
       "      <th>1</th>\n",
       "      <td>female</td>\n",
       "      <td>group C</td>\n",
       "      <td>some college</td>\n",
       "      <td>standard</td>\n",
       "      <td>completed</td>\n",
       "      <td>69</td>\n",
       "      <td>90</td>\n",
       "      <td>88</td>\n",
       "      <td>82.33</td>\n",
       "    </tr>\n",
       "    <tr>\n",
       "      <th>2</th>\n",
       "      <td>female</td>\n",
       "      <td>group B</td>\n",
       "      <td>master's degree</td>\n",
       "      <td>standard</td>\n",
       "      <td>none</td>\n",
       "      <td>90</td>\n",
       "      <td>95</td>\n",
       "      <td>93</td>\n",
       "      <td>92.67</td>\n",
       "    </tr>\n",
       "    <tr>\n",
       "      <th>3</th>\n",
       "      <td>male</td>\n",
       "      <td>group A</td>\n",
       "      <td>associate's degree</td>\n",
       "      <td>free/reduced</td>\n",
       "      <td>none</td>\n",
       "      <td>47</td>\n",
       "      <td>57</td>\n",
       "      <td>44</td>\n",
       "      <td>49.33</td>\n",
       "    </tr>\n",
       "    <tr>\n",
       "      <th>4</th>\n",
       "      <td>male</td>\n",
       "      <td>group C</td>\n",
       "      <td>some college</td>\n",
       "      <td>standard</td>\n",
       "      <td>none</td>\n",
       "      <td>76</td>\n",
       "      <td>78</td>\n",
       "      <td>75</td>\n",
       "      <td>76.33</td>\n",
       "    </tr>\n",
       "  </tbody>\n",
       "</table>\n",
       "</div>"
      ],
      "text/plain": [
       "           sex ethnicity           parent_ed         lunch  test_prep  \\\n",
       "stu_id                                                                  \n",
       "0       female   group B   bachelor's degree      standard       none   \n",
       "1       female   group C        some college      standard  completed   \n",
       "2       female   group B     master's degree      standard       none   \n",
       "3         male   group A  associate's degree  free/reduced       none   \n",
       "4         male   group C        some college      standard       none   \n",
       "\n",
       "        math_score  reading_score  writing_score  avg_score  \n",
       "stu_id                                                       \n",
       "0               72             72             74      72.67  \n",
       "1               69             90             88      82.33  \n",
       "2               90             95             93      92.67  \n",
       "3               47             57             44      49.33  \n",
       "4               76             78             75      76.33  "
      ]
     },
     "execution_count": 15,
     "metadata": {},
     "output_type": "execute_result"
    }
   ],
   "source": [
    "# Take a look at our new column names and start looking at what other transformations we can make to better use the columns\n",
    "# as features for our model:\n",
    "stu_perf_df.head()"
   ]
  },
  {
   "cell_type": "markdown",
   "metadata": {},
   "source": [
    "<h3>All of these columns except the test reults should be turned into dummy variables in order to make them machine readable:"
   ]
  },
  {
   "cell_type": "code",
   "execution_count": 16,
   "metadata": {},
   "outputs": [
    {
     "data": {
      "text/html": [
       "<div>\n",
       "<style scoped>\n",
       "    .dataframe tbody tr th:only-of-type {\n",
       "        vertical-align: middle;\n",
       "    }\n",
       "\n",
       "    .dataframe tbody tr th {\n",
       "        vertical-align: top;\n",
       "    }\n",
       "\n",
       "    .dataframe thead th {\n",
       "        text-align: right;\n",
       "    }\n",
       "</style>\n",
       "<table border=\"1\" class=\"dataframe\">\n",
       "  <thead>\n",
       "    <tr style=\"text-align: right;\">\n",
       "      <th></th>\n",
       "      <th>math_score</th>\n",
       "      <th>reading_score</th>\n",
       "      <th>writing_score</th>\n",
       "      <th>avg_score</th>\n",
       "      <th>sex_female</th>\n",
       "      <th>sex_male</th>\n",
       "      <th>ethnicity_group A</th>\n",
       "      <th>ethnicity_group B</th>\n",
       "      <th>ethnicity_group C</th>\n",
       "      <th>ethnicity_group D</th>\n",
       "      <th>...</th>\n",
       "      <th>parent_ed_associate's degree</th>\n",
       "      <th>parent_ed_bachelor's degree</th>\n",
       "      <th>parent_ed_high school</th>\n",
       "      <th>parent_ed_master's degree</th>\n",
       "      <th>parent_ed_some college</th>\n",
       "      <th>parent_ed_some high school</th>\n",
       "      <th>lunch_free/reduced</th>\n",
       "      <th>lunch_standard</th>\n",
       "      <th>test_prep_completed</th>\n",
       "      <th>test_prep_none</th>\n",
       "    </tr>\n",
       "    <tr>\n",
       "      <th>stu_id</th>\n",
       "      <th></th>\n",
       "      <th></th>\n",
       "      <th></th>\n",
       "      <th></th>\n",
       "      <th></th>\n",
       "      <th></th>\n",
       "      <th></th>\n",
       "      <th></th>\n",
       "      <th></th>\n",
       "      <th></th>\n",
       "      <th></th>\n",
       "      <th></th>\n",
       "      <th></th>\n",
       "      <th></th>\n",
       "      <th></th>\n",
       "      <th></th>\n",
       "      <th></th>\n",
       "      <th></th>\n",
       "      <th></th>\n",
       "      <th></th>\n",
       "      <th></th>\n",
       "    </tr>\n",
       "  </thead>\n",
       "  <tbody>\n",
       "    <tr>\n",
       "      <th>0</th>\n",
       "      <td>72</td>\n",
       "      <td>72</td>\n",
       "      <td>74</td>\n",
       "      <td>72.67</td>\n",
       "      <td>1</td>\n",
       "      <td>0</td>\n",
       "      <td>0</td>\n",
       "      <td>1</td>\n",
       "      <td>0</td>\n",
       "      <td>0</td>\n",
       "      <td>...</td>\n",
       "      <td>0</td>\n",
       "      <td>1</td>\n",
       "      <td>0</td>\n",
       "      <td>0</td>\n",
       "      <td>0</td>\n",
       "      <td>0</td>\n",
       "      <td>0</td>\n",
       "      <td>1</td>\n",
       "      <td>0</td>\n",
       "      <td>1</td>\n",
       "    </tr>\n",
       "    <tr>\n",
       "      <th>1</th>\n",
       "      <td>69</td>\n",
       "      <td>90</td>\n",
       "      <td>88</td>\n",
       "      <td>82.33</td>\n",
       "      <td>1</td>\n",
       "      <td>0</td>\n",
       "      <td>0</td>\n",
       "      <td>0</td>\n",
       "      <td>1</td>\n",
       "      <td>0</td>\n",
       "      <td>...</td>\n",
       "      <td>0</td>\n",
       "      <td>0</td>\n",
       "      <td>0</td>\n",
       "      <td>0</td>\n",
       "      <td>1</td>\n",
       "      <td>0</td>\n",
       "      <td>0</td>\n",
       "      <td>1</td>\n",
       "      <td>1</td>\n",
       "      <td>0</td>\n",
       "    </tr>\n",
       "    <tr>\n",
       "      <th>2</th>\n",
       "      <td>90</td>\n",
       "      <td>95</td>\n",
       "      <td>93</td>\n",
       "      <td>92.67</td>\n",
       "      <td>1</td>\n",
       "      <td>0</td>\n",
       "      <td>0</td>\n",
       "      <td>1</td>\n",
       "      <td>0</td>\n",
       "      <td>0</td>\n",
       "      <td>...</td>\n",
       "      <td>0</td>\n",
       "      <td>0</td>\n",
       "      <td>0</td>\n",
       "      <td>1</td>\n",
       "      <td>0</td>\n",
       "      <td>0</td>\n",
       "      <td>0</td>\n",
       "      <td>1</td>\n",
       "      <td>0</td>\n",
       "      <td>1</td>\n",
       "    </tr>\n",
       "    <tr>\n",
       "      <th>3</th>\n",
       "      <td>47</td>\n",
       "      <td>57</td>\n",
       "      <td>44</td>\n",
       "      <td>49.33</td>\n",
       "      <td>0</td>\n",
       "      <td>1</td>\n",
       "      <td>1</td>\n",
       "      <td>0</td>\n",
       "      <td>0</td>\n",
       "      <td>0</td>\n",
       "      <td>...</td>\n",
       "      <td>1</td>\n",
       "      <td>0</td>\n",
       "      <td>0</td>\n",
       "      <td>0</td>\n",
       "      <td>0</td>\n",
       "      <td>0</td>\n",
       "      <td>1</td>\n",
       "      <td>0</td>\n",
       "      <td>0</td>\n",
       "      <td>1</td>\n",
       "    </tr>\n",
       "    <tr>\n",
       "      <th>4</th>\n",
       "      <td>76</td>\n",
       "      <td>78</td>\n",
       "      <td>75</td>\n",
       "      <td>76.33</td>\n",
       "      <td>0</td>\n",
       "      <td>1</td>\n",
       "      <td>0</td>\n",
       "      <td>0</td>\n",
       "      <td>1</td>\n",
       "      <td>0</td>\n",
       "      <td>...</td>\n",
       "      <td>0</td>\n",
       "      <td>0</td>\n",
       "      <td>0</td>\n",
       "      <td>0</td>\n",
       "      <td>1</td>\n",
       "      <td>0</td>\n",
       "      <td>0</td>\n",
       "      <td>1</td>\n",
       "      <td>0</td>\n",
       "      <td>1</td>\n",
       "    </tr>\n",
       "  </tbody>\n",
       "</table>\n",
       "<p>5 rows × 21 columns</p>\n",
       "</div>"
      ],
      "text/plain": [
       "        math_score  reading_score  writing_score  avg_score  sex_female  \\\n",
       "stu_id                                                                    \n",
       "0               72             72             74      72.67           1   \n",
       "1               69             90             88      82.33           1   \n",
       "2               90             95             93      92.67           1   \n",
       "3               47             57             44      49.33           0   \n",
       "4               76             78             75      76.33           0   \n",
       "\n",
       "        sex_male  ethnicity_group A  ethnicity_group B  ethnicity_group C  \\\n",
       "stu_id                                                                      \n",
       "0              0                  0                  1                  0   \n",
       "1              0                  0                  0                  1   \n",
       "2              0                  0                  1                  0   \n",
       "3              1                  1                  0                  0   \n",
       "4              1                  0                  0                  1   \n",
       "\n",
       "        ethnicity_group D  ...  parent_ed_associate's degree  \\\n",
       "stu_id                     ...                                 \n",
       "0                       0  ...                             0   \n",
       "1                       0  ...                             0   \n",
       "2                       0  ...                             0   \n",
       "3                       0  ...                             1   \n",
       "4                       0  ...                             0   \n",
       "\n",
       "        parent_ed_bachelor's degree  parent_ed_high school  \\\n",
       "stu_id                                                       \n",
       "0                                 1                      0   \n",
       "1                                 0                      0   \n",
       "2                                 0                      0   \n",
       "3                                 0                      0   \n",
       "4                                 0                      0   \n",
       "\n",
       "        parent_ed_master's degree  parent_ed_some college  \\\n",
       "stu_id                                                      \n",
       "0                               0                       0   \n",
       "1                               0                       1   \n",
       "2                               1                       0   \n",
       "3                               0                       0   \n",
       "4                               0                       1   \n",
       "\n",
       "        parent_ed_some high school  lunch_free/reduced  lunch_standard  \\\n",
       "stu_id                                                                   \n",
       "0                                0                   0               1   \n",
       "1                                0                   0               1   \n",
       "2                                0                   0               1   \n",
       "3                                0                   1               0   \n",
       "4                                0                   0               1   \n",
       "\n",
       "        test_prep_completed  test_prep_none  \n",
       "stu_id                                       \n",
       "0                         0               1  \n",
       "1                         1               0  \n",
       "2                         0               1  \n",
       "3                         0               1  \n",
       "4                         0               1  \n",
       "\n",
       "[5 rows x 21 columns]"
      ]
     },
     "execution_count": 16,
     "metadata": {},
     "output_type": "execute_result"
    }
   ],
   "source": [
    "# Generate dummy columns for one-hot encoding for sex, ethnicity, parent_ed, lunch, and test_prep:\n",
    "stu_perf_df_cln = pd.get_dummies(stu_perf_df, columns=['sex', 'ethnicity', 'parent_ed', 'lunch', 'test_prep'])\n",
    "stu_perf_df_cln.head()"
   ]
  },
  {
   "cell_type": "code",
   "execution_count": 17,
   "metadata": {},
   "outputs": [],
   "source": [
    "# Now we can drop several of the extra columns that are unnecessary:\n",
    "stu_perf_df_cln.drop(axis=1, columns=['sex_male', 'ethnicity_group E', 'parent_ed_some high school',\n",
    "                          'lunch_free/reduced', 'test_prep_none'], inplace=True)"
   ]
  },
  {
   "cell_type": "code",
   "execution_count": 18,
   "metadata": {},
   "outputs": [
    {
     "data": {
      "text/plain": [
       "Index(['math_score', 'reading_score', 'writing_score', 'avg_score',\n",
       "       'sex_female', 'ethnicity_group A', 'ethnicity_group B',\n",
       "       'ethnicity_group C', 'ethnicity_group D',\n",
       "       'parent_ed_associate's degree', 'parent_ed_bachelor's degree',\n",
       "       'parent_ed_high school', 'parent_ed_master's degree',\n",
       "       'parent_ed_some college', 'lunch_standard', 'test_prep_completed'],\n",
       "      dtype='object')"
      ]
     },
     "execution_count": 18,
     "metadata": {},
     "output_type": "execute_result"
    }
   ],
   "source": [
    "# Take a look at the remaining columns to get an idea of how we can improve their names, etc:\n",
    "stu_perf_df_cln.columns"
   ]
  },
  {
   "cell_type": "code",
   "execution_count": 19,
   "metadata": {},
   "outputs": [],
   "source": [
    "# Shorten virtually all of the column names to be easier to read:\n",
    "stu_perf_df_cln.rename(columns={'sex_female':'female', 'ethnicity_group A':'eth_A', 'ethnicity_group B':'eth_B',\n",
    "                            'ethnicity_group C':'eth_C', 'ethnicity_group D':'eth_D',\n",
    "                            'parent_ed_associate\\'s degree':'p_ed_assc', 'parent_ed_bachelor\\'s degree':'p_ed_bach',\n",
    "                            'parent_ed_master\\'s degree':'p_ed_mast', 'parent_ed_some college':'p_ed_som_col',\n",
    "                            'parent_ed_high school':'p_ed_hs', 'lunch_standard':'std_lunch',\n",
    "                            'test_prep_completed':'test_prep'}, inplace=True)"
   ]
  },
  {
   "cell_type": "markdown",
   "metadata": {},
   "source": [
    "<h3>The features are a lot more managable now and will be legible to the ML models."
   ]
  },
  {
   "cell_type": "code",
   "execution_count": 20,
   "metadata": {},
   "outputs": [
    {
     "data": {
      "text/plain": [
       "['math_score',\n",
       " 'reading_score',\n",
       " 'writing_score',\n",
       " 'avg_score',\n",
       " 'female',\n",
       " 'eth_A',\n",
       " 'eth_B',\n",
       " 'eth_C',\n",
       " 'eth_D',\n",
       " 'p_ed_assc',\n",
       " 'p_ed_bach',\n",
       " 'p_ed_hs',\n",
       " 'p_ed_mast',\n",
       " 'p_ed_som_col',\n",
       " 'std_lunch',\n",
       " 'test_prep']"
      ]
     },
     "execution_count": 20,
     "metadata": {},
     "output_type": "execute_result"
    }
   ],
   "source": [
    "list(stu_perf_df_cln.columns)"
   ]
  },
  {
   "cell_type": "code",
   "execution_count": 21,
   "metadata": {
    "scrolled": true
   },
   "outputs": [],
   "source": [
    "# Reorder the columns to be a little cleaner. Put p_ed in order of increasing education and move scores to right side of DF:\n",
    "stu_perf_df_cln = stu_perf_df_cln[[\n",
    " 'female',\n",
    " 'eth_A',\n",
    " 'eth_B',\n",
    " 'eth_C',\n",
    " 'eth_D',\n",
    " 'p_ed_hs',\n",
    " 'p_ed_som_col',\n",
    " 'p_ed_assc',\n",
    " 'p_ed_bach',\n",
    " 'p_ed_mast',\n",
    " 'std_lunch',\n",
    " 'test_prep',\n",
    " 'math_score',\n",
    " 'reading_score',\n",
    " 'writing_score',\n",
    " 'avg_score']]"
   ]
  },
  {
   "cell_type": "code",
   "execution_count": 22,
   "metadata": {},
   "outputs": [
    {
     "data": {
      "text/html": [
       "<div>\n",
       "<style scoped>\n",
       "    .dataframe tbody tr th:only-of-type {\n",
       "        vertical-align: middle;\n",
       "    }\n",
       "\n",
       "    .dataframe tbody tr th {\n",
       "        vertical-align: top;\n",
       "    }\n",
       "\n",
       "    .dataframe thead th {\n",
       "        text-align: right;\n",
       "    }\n",
       "</style>\n",
       "<table border=\"1\" class=\"dataframe\">\n",
       "  <thead>\n",
       "    <tr style=\"text-align: right;\">\n",
       "      <th></th>\n",
       "      <th>female</th>\n",
       "      <th>eth_A</th>\n",
       "      <th>eth_B</th>\n",
       "      <th>eth_C</th>\n",
       "      <th>eth_D</th>\n",
       "      <th>p_ed_hs</th>\n",
       "      <th>p_ed_som_col</th>\n",
       "      <th>p_ed_assc</th>\n",
       "      <th>p_ed_bach</th>\n",
       "      <th>p_ed_mast</th>\n",
       "      <th>std_lunch</th>\n",
       "      <th>test_prep</th>\n",
       "      <th>math_score</th>\n",
       "      <th>reading_score</th>\n",
       "      <th>writing_score</th>\n",
       "      <th>avg_score</th>\n",
       "    </tr>\n",
       "    <tr>\n",
       "      <th>stu_id</th>\n",
       "      <th></th>\n",
       "      <th></th>\n",
       "      <th></th>\n",
       "      <th></th>\n",
       "      <th></th>\n",
       "      <th></th>\n",
       "      <th></th>\n",
       "      <th></th>\n",
       "      <th></th>\n",
       "      <th></th>\n",
       "      <th></th>\n",
       "      <th></th>\n",
       "      <th></th>\n",
       "      <th></th>\n",
       "      <th></th>\n",
       "      <th></th>\n",
       "    </tr>\n",
       "  </thead>\n",
       "  <tbody>\n",
       "    <tr>\n",
       "      <th>0</th>\n",
       "      <td>1</td>\n",
       "      <td>0</td>\n",
       "      <td>1</td>\n",
       "      <td>0</td>\n",
       "      <td>0</td>\n",
       "      <td>0</td>\n",
       "      <td>0</td>\n",
       "      <td>0</td>\n",
       "      <td>1</td>\n",
       "      <td>0</td>\n",
       "      <td>1</td>\n",
       "      <td>0</td>\n",
       "      <td>72</td>\n",
       "      <td>72</td>\n",
       "      <td>74</td>\n",
       "      <td>72.67</td>\n",
       "    </tr>\n",
       "    <tr>\n",
       "      <th>1</th>\n",
       "      <td>1</td>\n",
       "      <td>0</td>\n",
       "      <td>0</td>\n",
       "      <td>1</td>\n",
       "      <td>0</td>\n",
       "      <td>0</td>\n",
       "      <td>1</td>\n",
       "      <td>0</td>\n",
       "      <td>0</td>\n",
       "      <td>0</td>\n",
       "      <td>1</td>\n",
       "      <td>1</td>\n",
       "      <td>69</td>\n",
       "      <td>90</td>\n",
       "      <td>88</td>\n",
       "      <td>82.33</td>\n",
       "    </tr>\n",
       "    <tr>\n",
       "      <th>2</th>\n",
       "      <td>1</td>\n",
       "      <td>0</td>\n",
       "      <td>1</td>\n",
       "      <td>0</td>\n",
       "      <td>0</td>\n",
       "      <td>0</td>\n",
       "      <td>0</td>\n",
       "      <td>0</td>\n",
       "      <td>0</td>\n",
       "      <td>1</td>\n",
       "      <td>1</td>\n",
       "      <td>0</td>\n",
       "      <td>90</td>\n",
       "      <td>95</td>\n",
       "      <td>93</td>\n",
       "      <td>92.67</td>\n",
       "    </tr>\n",
       "    <tr>\n",
       "      <th>3</th>\n",
       "      <td>0</td>\n",
       "      <td>1</td>\n",
       "      <td>0</td>\n",
       "      <td>0</td>\n",
       "      <td>0</td>\n",
       "      <td>0</td>\n",
       "      <td>0</td>\n",
       "      <td>1</td>\n",
       "      <td>0</td>\n",
       "      <td>0</td>\n",
       "      <td>0</td>\n",
       "      <td>0</td>\n",
       "      <td>47</td>\n",
       "      <td>57</td>\n",
       "      <td>44</td>\n",
       "      <td>49.33</td>\n",
       "    </tr>\n",
       "    <tr>\n",
       "      <th>4</th>\n",
       "      <td>0</td>\n",
       "      <td>0</td>\n",
       "      <td>0</td>\n",
       "      <td>1</td>\n",
       "      <td>0</td>\n",
       "      <td>0</td>\n",
       "      <td>1</td>\n",
       "      <td>0</td>\n",
       "      <td>0</td>\n",
       "      <td>0</td>\n",
       "      <td>1</td>\n",
       "      <td>0</td>\n",
       "      <td>76</td>\n",
       "      <td>78</td>\n",
       "      <td>75</td>\n",
       "      <td>76.33</td>\n",
       "    </tr>\n",
       "    <tr>\n",
       "      <th>5</th>\n",
       "      <td>1</td>\n",
       "      <td>0</td>\n",
       "      <td>1</td>\n",
       "      <td>0</td>\n",
       "      <td>0</td>\n",
       "      <td>0</td>\n",
       "      <td>0</td>\n",
       "      <td>1</td>\n",
       "      <td>0</td>\n",
       "      <td>0</td>\n",
       "      <td>1</td>\n",
       "      <td>0</td>\n",
       "      <td>71</td>\n",
       "      <td>83</td>\n",
       "      <td>78</td>\n",
       "      <td>77.33</td>\n",
       "    </tr>\n",
       "    <tr>\n",
       "      <th>6</th>\n",
       "      <td>1</td>\n",
       "      <td>0</td>\n",
       "      <td>1</td>\n",
       "      <td>0</td>\n",
       "      <td>0</td>\n",
       "      <td>0</td>\n",
       "      <td>1</td>\n",
       "      <td>0</td>\n",
       "      <td>0</td>\n",
       "      <td>0</td>\n",
       "      <td>1</td>\n",
       "      <td>1</td>\n",
       "      <td>88</td>\n",
       "      <td>95</td>\n",
       "      <td>92</td>\n",
       "      <td>91.67</td>\n",
       "    </tr>\n",
       "    <tr>\n",
       "      <th>7</th>\n",
       "      <td>0</td>\n",
       "      <td>0</td>\n",
       "      <td>1</td>\n",
       "      <td>0</td>\n",
       "      <td>0</td>\n",
       "      <td>0</td>\n",
       "      <td>1</td>\n",
       "      <td>0</td>\n",
       "      <td>0</td>\n",
       "      <td>0</td>\n",
       "      <td>0</td>\n",
       "      <td>0</td>\n",
       "      <td>40</td>\n",
       "      <td>43</td>\n",
       "      <td>39</td>\n",
       "      <td>40.67</td>\n",
       "    </tr>\n",
       "    <tr>\n",
       "      <th>8</th>\n",
       "      <td>0</td>\n",
       "      <td>0</td>\n",
       "      <td>0</td>\n",
       "      <td>0</td>\n",
       "      <td>1</td>\n",
       "      <td>1</td>\n",
       "      <td>0</td>\n",
       "      <td>0</td>\n",
       "      <td>0</td>\n",
       "      <td>0</td>\n",
       "      <td>0</td>\n",
       "      <td>1</td>\n",
       "      <td>64</td>\n",
       "      <td>64</td>\n",
       "      <td>67</td>\n",
       "      <td>65.00</td>\n",
       "    </tr>\n",
       "    <tr>\n",
       "      <th>9</th>\n",
       "      <td>1</td>\n",
       "      <td>0</td>\n",
       "      <td>1</td>\n",
       "      <td>0</td>\n",
       "      <td>0</td>\n",
       "      <td>1</td>\n",
       "      <td>0</td>\n",
       "      <td>0</td>\n",
       "      <td>0</td>\n",
       "      <td>0</td>\n",
       "      <td>0</td>\n",
       "      <td>0</td>\n",
       "      <td>38</td>\n",
       "      <td>60</td>\n",
       "      <td>50</td>\n",
       "      <td>49.33</td>\n",
       "    </tr>\n",
       "  </tbody>\n",
       "</table>\n",
       "</div>"
      ],
      "text/plain": [
       "        female  eth_A  eth_B  eth_C  eth_D  p_ed_hs  p_ed_som_col  p_ed_assc  \\\n",
       "stu_id                                                                         \n",
       "0            1      0      1      0      0        0             0          0   \n",
       "1            1      0      0      1      0        0             1          0   \n",
       "2            1      0      1      0      0        0             0          0   \n",
       "3            0      1      0      0      0        0             0          1   \n",
       "4            0      0      0      1      0        0             1          0   \n",
       "5            1      0      1      0      0        0             0          1   \n",
       "6            1      0      1      0      0        0             1          0   \n",
       "7            0      0      1      0      0        0             1          0   \n",
       "8            0      0      0      0      1        1             0          0   \n",
       "9            1      0      1      0      0        1             0          0   \n",
       "\n",
       "        p_ed_bach  p_ed_mast  std_lunch  test_prep  math_score  reading_score  \\\n",
       "stu_id                                                                          \n",
       "0               1          0          1          0          72             72   \n",
       "1               0          0          1          1          69             90   \n",
       "2               0          1          1          0          90             95   \n",
       "3               0          0          0          0          47             57   \n",
       "4               0          0          1          0          76             78   \n",
       "5               0          0          1          0          71             83   \n",
       "6               0          0          1          1          88             95   \n",
       "7               0          0          0          0          40             43   \n",
       "8               0          0          0          1          64             64   \n",
       "9               0          0          0          0          38             60   \n",
       "\n",
       "        writing_score  avg_score  \n",
       "stu_id                            \n",
       "0                  74      72.67  \n",
       "1                  88      82.33  \n",
       "2                  93      92.67  \n",
       "3                  44      49.33  \n",
       "4                  75      76.33  \n",
       "5                  78      77.33  \n",
       "6                  92      91.67  \n",
       "7                  39      40.67  \n",
       "8                  67      65.00  \n",
       "9                  50      49.33  "
      ]
     },
     "execution_count": 22,
     "metadata": {},
     "output_type": "execute_result"
    }
   ],
   "source": [
    "# Make sure our final, cleaned up dataset looks good:\n",
    "stu_perf_df_cln.head(10)"
   ]
  },
  {
   "cell_type": "code",
   "execution_count": 23,
   "metadata": {},
   "outputs": [],
   "source": [
    "# Save the cleaned up, one-hot encoded dataframe into csv:\n",
    "stu_perf_df_cln.to_csv('../Datasets/stu_perf_clean.csv')"
   ]
  },
  {
   "cell_type": "code",
   "execution_count": null,
   "metadata": {},
   "outputs": [],
   "source": []
  }
 ],
 "metadata": {
  "kernelspec": {
   "display_name": "Python 3",
   "language": "python",
   "name": "python3"
  },
  "language_info": {
   "codemirror_mode": {
    "name": "ipython",
    "version": 3
   },
   "file_extension": ".py",
   "mimetype": "text/x-python",
   "name": "python",
   "nbconvert_exporter": "python",
   "pygments_lexer": "ipython3",
   "version": "3.8.3"
  }
 },
 "nbformat": 4,
 "nbformat_minor": 4
}
