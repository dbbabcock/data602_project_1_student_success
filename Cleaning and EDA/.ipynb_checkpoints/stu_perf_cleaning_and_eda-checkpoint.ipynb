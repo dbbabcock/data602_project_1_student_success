{
 "cells": [
  {
   "cell_type": "code",
   "execution_count": 1,
   "metadata": {},
   "outputs": [
    {
     "name": "stdout",
     "output_type": "stream",
     "text": [
      "Pandas version used: 1.0.5\n",
      "Seaborn version used: 0.10.1\n",
      "Matplotlib version used: 3.2.2\n"
     ]
    }
   ],
   "source": [
    "import pandas as pd\n",
    "import seaborn as sns\n",
    "import matplotlib\n",
    "import matplotlib.pyplot as plt\n",
    "print(\"Pandas version used: \" + pd.__version__)\n",
    "print(\"Seaborn version used: \" + sns.__version__)\n",
    "print(\"Matplotlib version used: \" + plt.matplotlib.__version__)"
   ]
  },
  {
   "cell_type": "code",
   "execution_count": 2,
   "metadata": {},
   "outputs": [],
   "source": [
    "# Read the dataset into a pandas dataframe:\n",
    "stu_perf_df = pd.read_csv('../Datasets/stu_perf_raw.csv')"
   ]
  },
  {
   "cell_type": "code",
   "execution_count": 3,
   "metadata": {},
   "outputs": [
    {
     "data": {
      "text/html": [
       "<div>\n",
       "<style scoped>\n",
       "    .dataframe tbody tr th:only-of-type {\n",
       "        vertical-align: middle;\n",
       "    }\n",
       "\n",
       "    .dataframe tbody tr th {\n",
       "        vertical-align: top;\n",
       "    }\n",
       "\n",
       "    .dataframe thead th {\n",
       "        text-align: right;\n",
       "    }\n",
       "</style>\n",
       "<table border=\"1\" class=\"dataframe\">\n",
       "  <thead>\n",
       "    <tr style=\"text-align: right;\">\n",
       "      <th></th>\n",
       "      <th>gender</th>\n",
       "      <th>race/ethnicity</th>\n",
       "      <th>parental level of education</th>\n",
       "      <th>lunch</th>\n",
       "      <th>test preparation course</th>\n",
       "      <th>math score</th>\n",
       "      <th>reading score</th>\n",
       "      <th>writing score</th>\n",
       "    </tr>\n",
       "  </thead>\n",
       "  <tbody>\n",
       "    <tr>\n",
       "      <th>0</th>\n",
       "      <td>male</td>\n",
       "      <td>group B</td>\n",
       "      <td>some high school</td>\n",
       "      <td>standard</td>\n",
       "      <td>none</td>\n",
       "      <td>71</td>\n",
       "      <td>59</td>\n",
       "      <td>54</td>\n",
       "    </tr>\n",
       "    <tr>\n",
       "      <th>1</th>\n",
       "      <td>female</td>\n",
       "      <td>group B</td>\n",
       "      <td>some high school</td>\n",
       "      <td>free/reduced</td>\n",
       "      <td>none</td>\n",
       "      <td>40</td>\n",
       "      <td>51</td>\n",
       "      <td>49</td>\n",
       "    </tr>\n",
       "    <tr>\n",
       "      <th>2</th>\n",
       "      <td>male</td>\n",
       "      <td>group B</td>\n",
       "      <td>associate's degree</td>\n",
       "      <td>standard</td>\n",
       "      <td>none</td>\n",
       "      <td>87</td>\n",
       "      <td>73</td>\n",
       "      <td>75</td>\n",
       "    </tr>\n",
       "    <tr>\n",
       "      <th>3</th>\n",
       "      <td>male</td>\n",
       "      <td>group C</td>\n",
       "      <td>some high school</td>\n",
       "      <td>standard</td>\n",
       "      <td>none</td>\n",
       "      <td>69</td>\n",
       "      <td>53</td>\n",
       "      <td>55</td>\n",
       "    </tr>\n",
       "    <tr>\n",
       "      <th>4</th>\n",
       "      <td>female</td>\n",
       "      <td>group C</td>\n",
       "      <td>high school</td>\n",
       "      <td>standard</td>\n",
       "      <td>none</td>\n",
       "      <td>74</td>\n",
       "      <td>79</td>\n",
       "      <td>72</td>\n",
       "    </tr>\n",
       "  </tbody>\n",
       "</table>\n",
       "</div>"
      ],
      "text/plain": [
       "   gender race/ethnicity parental level of education         lunch  \\\n",
       "0    male        group B            some high school      standard   \n",
       "1  female        group B            some high school  free/reduced   \n",
       "2    male        group B          associate's degree      standard   \n",
       "3    male        group C            some high school      standard   \n",
       "4  female        group C                 high school      standard   \n",
       "\n",
       "  test preparation course  math score  reading score  writing score  \n",
       "0                    none          71             59             54  \n",
       "1                    none          40             51             49  \n",
       "2                    none          87             73             75  \n",
       "3                    none          69             53             55  \n",
       "4                    none          74             79             72  "
      ]
     },
     "execution_count": 3,
     "metadata": {},
     "output_type": "execute_result"
    }
   ],
   "source": [
    "# Look at the first few rows of the dataset:\n",
    "stu_perf_df.head()"
   ]
  },
  {
   "cell_type": "code",
   "execution_count": 4,
   "metadata": {},
   "outputs": [
    {
     "name": "stdout",
     "output_type": "stream",
     "text": [
      "<class 'pandas.core.frame.DataFrame'>\n",
      "RangeIndex: 10000 entries, 0 to 9999\n",
      "Data columns (total 8 columns):\n",
      " #   Column                       Non-Null Count  Dtype \n",
      "---  ------                       --------------  ----- \n",
      " 0   gender                       10000 non-null  object\n",
      " 1   race/ethnicity               10000 non-null  object\n",
      " 2   parental level of education  10000 non-null  object\n",
      " 3   lunch                        10000 non-null  object\n",
      " 4   test preparation course      10000 non-null  object\n",
      " 5   math score                   10000 non-null  int64 \n",
      " 6   reading score                10000 non-null  int64 \n",
      " 7   writing score                10000 non-null  int64 \n",
      "dtypes: int64(3), object(5)\n",
      "memory usage: 625.1+ KB\n"
     ]
    }
   ],
   "source": [
    "# Look at some information about the dataset, how many rows, and what data types:\n",
    "stu_perf_df.info()"
   ]
  },
  {
   "cell_type": "markdown",
   "metadata": {},
   "source": [
    "<h3>The dataset has 10,000 rows with 8 columns"
   ]
  },
  {
   "cell_type": "code",
   "execution_count": 5,
   "metadata": {},
   "outputs": [
    {
     "data": {
      "text/plain": [
       "gender                         0\n",
       "race/ethnicity                 0\n",
       "parental level of education    0\n",
       "lunch                          0\n",
       "test preparation course        0\n",
       "math score                     0\n",
       "reading score                  0\n",
       "writing score                  0\n",
       "dtype: int64"
      ]
     },
     "execution_count": 5,
     "metadata": {},
     "output_type": "execute_result"
    }
   ],
   "source": [
    "# Check to see if there are any null values:\n",
    "stu_perf_df.isnull().sum()"
   ]
  },
  {
   "cell_type": "code",
   "execution_count": 6,
   "metadata": {},
   "outputs": [
    {
     "name": "stdout",
     "output_type": "stream",
     "text": [
      "\n",
      "gender:\n",
      "['male' 'female']\n",
      "\n",
      "race/ethnicity:\n",
      "['group B' 'group C' 'group D' 'group E' 'group A']\n",
      "\n",
      "parental level of education:\n",
      "['some high school' \"associate's degree\" 'high school' \"master's degree\"\n",
      " 'some college' \"bachelor's degree\"]\n",
      "\n",
      "lunch:\n",
      "['standard' 'free/reduced']\n",
      "\n",
      "test preparation course:\n",
      "['none' 'completed']\n",
      "\n",
      "math score:\n",
      "[ 71  40  87  69  74  95  94  63  89  82  84  59  83 100  54  62  67  70\n",
      "  85  76  56  73  66  72  61  55  64  81  60  90  77  52  68  88  36  65\n",
      "  57  79  49  50  53  51  46  91  80  39  78  45  34  42  47  99  75  43\n",
      "  33  35  14  92  96  93  86  58  41  48  23  38  44  97  30  32  29  31\n",
      "  28  98  22  37  27  20  21  16  19  24  18  15   5  26  12  25   7]\n",
      "\n",
      "reading score:\n",
      "[ 59  51  73  53  79  80  91  84  87  82  92  54  76  69  58  52  96  75\n",
      "  81  86  72  65  62  67  71  56  63  97  83  77  74  90  93  36  85  60\n",
      "  70  50  88  94  68  55  61  47  42 100  78  99  89  45  66  64  48  57\n",
      "  46  95  44  13  98  49  34  39  41  37  43  38  40  27  25  31  32  35\n",
      "  24  33  19  29  30  26  28  23  10  18  22  20]\n",
      "\n",
      "writing score:\n",
      "[ 54  49  75  55  72  82  84  59  87  86  44  77  94  51  61  57  74  91\n",
      "  69  83  73  64  68  63  78  66  92  79  80  60  76  67  47  81  71  46\n",
      "  89  32  56  53  93  65  88  50  36  98  85 100  38  62  48  45  70  41\n",
      "   7  90  58  96  52  42  43  39  99  33  97  95  35  40  19  34  28  20\n",
      "  24  29  31  13  37  18  27  30  25  22  26   8  15  23]\n"
     ]
    }
   ],
   "source": [
    "# Make sure we have expected values for the feature columns and that there's nothing out of the ordinary:\n",
    "# For each column, print out the column header and all of the distinct values within it:\n",
    "for col in stu_perf_df.columns:\n",
    "    print(\"\\n\" + str(col) + \":\\n\" + str(stu_perf_df[col].unique()))"
   ]
  },
  {
   "cell_type": "markdown",
   "metadata": {},
   "source": [
    "<h3>Thankfully there are no null values and all of the inputs match the expectations of their respective columns. Now to give the columns better names and then work on visualizing some of the data in its raw form before performing one-hot encoding for the categorical features:"
   ]
  },
  {
   "cell_type": "markdown",
   "metadata": {},
   "source": [
    "<h3>The index has no name and some of the column names are too long or include spaces which will make things difficult. These will need to be renamed along with several other changes:"
   ]
  },
  {
   "cell_type": "code",
   "execution_count": 7,
   "metadata": {},
   "outputs": [],
   "source": [
    "# Let's give the index a name ('stu_id') and then shorten some of the column names and add\n",
    "# underscores to the ones that need them:\n",
    "stu_perf_df.index.name = 'stu_id'\n",
    "stu_perf_df.rename(columns={'gender':'sex',\n",
    "                            'race/ethnicity':'ethnicity',\n",
    "                            'parental level of education':'parent_ed',\n",
    "                            'test preparation course':'test_prep',\n",
    "                            'math score':'math_score',\n",
    "                            'reading score':'reading_score',\n",
    "                            'writing score':'writing_score'}, inplace=True)"
   ]
  },
  {
   "cell_type": "markdown",
   "metadata": {},
   "source": [
    "<h3>I also want to create an average_score column that will serve as the main target variable. We can then look to see if individual subject scores are better predicted by these features later:"
   ]
  },
  {
   "cell_type": "code",
   "execution_count": 8,
   "metadata": {},
   "outputs": [],
   "source": [
    "# Add the math, reading, and writing scores together and then divide them by 3 to get an average total score:\n",
    "stu_perf_df['avg_score'] = ((stu_perf_df['math_score'] + stu_perf_df['reading_score'] + stu_perf_df['writing_score'])/3)\n",
    "\n",
    "# Round the Avg. Score to just 2 decimal places. Assuming precision beyond 2 digits is not useful and rather just confusing:\n",
    "stu_perf_df.avg_score = stu_perf_df.avg_score.round(2)"
   ]
  },
  {
   "cell_type": "code",
   "execution_count": 9,
   "metadata": {},
   "outputs": [
    {
     "data": {
      "text/html": [
       "<div>\n",
       "<style scoped>\n",
       "    .dataframe tbody tr th:only-of-type {\n",
       "        vertical-align: middle;\n",
       "    }\n",
       "\n",
       "    .dataframe tbody tr th {\n",
       "        vertical-align: top;\n",
       "    }\n",
       "\n",
       "    .dataframe thead th {\n",
       "        text-align: right;\n",
       "    }\n",
       "</style>\n",
       "<table border=\"1\" class=\"dataframe\">\n",
       "  <thead>\n",
       "    <tr style=\"text-align: right;\">\n",
       "      <th></th>\n",
       "      <th>sex</th>\n",
       "      <th>ethnicity</th>\n",
       "      <th>parent_ed</th>\n",
       "      <th>lunch</th>\n",
       "      <th>test_prep</th>\n",
       "      <th>math_score</th>\n",
       "      <th>reading_score</th>\n",
       "      <th>writing_score</th>\n",
       "      <th>avg_score</th>\n",
       "    </tr>\n",
       "    <tr>\n",
       "      <th>stu_id</th>\n",
       "      <th></th>\n",
       "      <th></th>\n",
       "      <th></th>\n",
       "      <th></th>\n",
       "      <th></th>\n",
       "      <th></th>\n",
       "      <th></th>\n",
       "      <th></th>\n",
       "      <th></th>\n",
       "    </tr>\n",
       "  </thead>\n",
       "  <tbody>\n",
       "    <tr>\n",
       "      <th>0</th>\n",
       "      <td>male</td>\n",
       "      <td>group B</td>\n",
       "      <td>some high school</td>\n",
       "      <td>standard</td>\n",
       "      <td>none</td>\n",
       "      <td>71</td>\n",
       "      <td>59</td>\n",
       "      <td>54</td>\n",
       "      <td>61.33</td>\n",
       "    </tr>\n",
       "    <tr>\n",
       "      <th>1</th>\n",
       "      <td>female</td>\n",
       "      <td>group B</td>\n",
       "      <td>some high school</td>\n",
       "      <td>free/reduced</td>\n",
       "      <td>none</td>\n",
       "      <td>40</td>\n",
       "      <td>51</td>\n",
       "      <td>49</td>\n",
       "      <td>46.67</td>\n",
       "    </tr>\n",
       "    <tr>\n",
       "      <th>2</th>\n",
       "      <td>male</td>\n",
       "      <td>group B</td>\n",
       "      <td>associate's degree</td>\n",
       "      <td>standard</td>\n",
       "      <td>none</td>\n",
       "      <td>87</td>\n",
       "      <td>73</td>\n",
       "      <td>75</td>\n",
       "      <td>78.33</td>\n",
       "    </tr>\n",
       "    <tr>\n",
       "      <th>3</th>\n",
       "      <td>male</td>\n",
       "      <td>group C</td>\n",
       "      <td>some high school</td>\n",
       "      <td>standard</td>\n",
       "      <td>none</td>\n",
       "      <td>69</td>\n",
       "      <td>53</td>\n",
       "      <td>55</td>\n",
       "      <td>59.00</td>\n",
       "    </tr>\n",
       "    <tr>\n",
       "      <th>4</th>\n",
       "      <td>female</td>\n",
       "      <td>group C</td>\n",
       "      <td>high school</td>\n",
       "      <td>standard</td>\n",
       "      <td>none</td>\n",
       "      <td>74</td>\n",
       "      <td>79</td>\n",
       "      <td>72</td>\n",
       "      <td>75.00</td>\n",
       "    </tr>\n",
       "  </tbody>\n",
       "</table>\n",
       "</div>"
      ],
      "text/plain": [
       "           sex ethnicity           parent_ed         lunch test_prep  \\\n",
       "stu_id                                                                 \n",
       "0         male   group B    some high school      standard      none   \n",
       "1       female   group B    some high school  free/reduced      none   \n",
       "2         male   group B  associate's degree      standard      none   \n",
       "3         male   group C    some high school      standard      none   \n",
       "4       female   group C         high school      standard      none   \n",
       "\n",
       "        math_score  reading_score  writing_score  avg_score  \n",
       "stu_id                                                       \n",
       "0               71             59             54      61.33  \n",
       "1               40             51             49      46.67  \n",
       "2               87             73             75      78.33  \n",
       "3               69             53             55      59.00  \n",
       "4               74             79             72      75.00  "
      ]
     },
     "execution_count": 9,
     "metadata": {},
     "output_type": "execute_result"
    }
   ],
   "source": [
    "# Let's make sure the avg_score column turned out properly:\n",
    "stu_perf_df.head()"
   ]
  },
  {
   "cell_type": "markdown",
   "metadata": {},
   "source": [
    "<h3>The columns are in much better shape, so now to begin visualizing some of the raw data:"
   ]
  },
  {
   "cell_type": "code",
   "execution_count": 10,
   "metadata": {},
   "outputs": [
    {
     "data": {
      "text/plain": [
       "[<matplotlib.lines.Line2D at 0x20fbee7b310>]"
      ]
     },
     "execution_count": 10,
     "metadata": {},
     "output_type": "execute_result"
    },
    {
     "data": {
      "image/png": "[encoded data removed]",
      "text/plain": [
       "<Figure size 720x432 with 1 Axes>"
      ]
     },
     "metadata": {
      "needs_background": "light"
     },
     "output_type": "display_data"
    }
   ],
   "source": [
    "# Let's begin with a scatterplot of the average test score and a line showing the mean:\n",
    "fig = plt.subplots(figsize=(10,6))\n",
    "x = stu_perf_df.index\n",
    "y = stu_perf_df['avg_score']\n",
    "plt.title('Average Test Score Per Student')\n",
    "# Draw a line at the mean of the avg_score\n",
    "plt.axhline(y=y.mean(), c='r', lw=4, label='Mean Score: ' + str(round(y.mean(), 2)))\n",
    "plt.legend()\n",
    "plt.xlabel('Student')\n",
    "plt.ylabel('Avg. Test Score')\n",
    "plt.plot(x, y, 'o')"
   ]
  },
  {
   "cell_type": "markdown",
   "metadata": {},
   "source": [
    "<h3>The mean of the average test scores is 68.46. At least most of the students seem to have passed. Now for each individual subject:"
   ]
  },
  {
   "cell_type": "code",
   "execution_count": 11,
   "metadata": {},
   "outputs": [
    {
     "data": {
      "text/plain": [
       "Text(0.5, 1.0, 'Writing Scores for All Students')"
      ]
     },
     "execution_count": 11,
     "metadata": {},
     "output_type": "execute_result"
    },
    {
     "data": {
      "image/png": "[encoded data removed]",
      "text/plain": [
       "<Figure size 864x864 with 3 Axes>"
      ]
     },
     "metadata": {
      "needs_background": "light"
     },
     "output_type": "display_data"
    }
   ],
   "source": [
    "# Build a figure that shows all 3 scores (Math, Reading, and Writing) together along with their respective means:\n",
    "\n",
    "# Create the variables to represent the 'y' axis of each respective graph:\n",
    "m = stu_perf_df['math_score']\n",
    "r = stu_perf_df['reading_score']\n",
    "w = stu_perf_df['writing_score']\n",
    "\n",
    "# Generate the subplots and figure aspects:\n",
    "fig, (ax1, ax2, ax3) = plt.subplots(3, 1, figsize=(12,12))\n",
    "fig.suptitle('Math, Reading, and Writing Scores for All Students')\n",
    "ax1.plot(x, m, 'o')\n",
    "ax1.axhline(y=m.mean(), c='r', lw=4, label='Mean Math Score: ' + str(round(m.mean(), 2)))\n",
    "ax1.legend()\n",
    "ax1.set_ylabel('Math Score')\n",
    "ax1.set_title('Math Scores for All Students')\n",
    "ax2.plot(x, r, 'o')\n",
    "ax2.axhline(y=r.mean(), c='r', lw=4, label='Mean Reading Score: ' + str(round(r.mean(), 2)))\n",
    "ax2.legend()\n",
    "ax2.set_ylabel('Reading Score')\n",
    "ax2.set_title('Reading Scores for All Students')\n",
    "ax3.plot(x, w, 'o')\n",
    "ax3.axhline(y=w.mean(), c='r', lw=4, label='Mean Writing Score: ' + str(round(w.mean(), 2)))\n",
    "ax3.legend()\n",
    "ax3.set_ylabel('Writing Score')\n",
    "ax3.set_title('Writing Scores for All Students')"
   ]
  },
  {
   "cell_type": "markdown",
   "metadata": {},
   "source": [
    "<h3>The mean score for the Math test was the lowest (67.03) while the mean score for the Reading test was highest (69.77). The mean for the writing test was 68.59. Now to look at what factors seem to contribute to higher or lower test scores:"
   ]
  },
  {
   "cell_type": "markdown",
   "metadata": {},
   "source": [
    "<h3>Each of the features need to be explored thoroughly, as intuitively any of them could have an impact on the test scores, even if not directly. For example, the ethnicity and lunch features might indicate a socioeconomic impact on test scores."
   ]
  },
  {
   "cell_type": "markdown",
   "metadata": {},
   "source": [
    "<h3>I also want to see if the population is evenly split between sex and if any of the particular ethnic groups are under or over represented:"
   ]
  },
  {
   "cell_type": "code",
   "execution_count": 12,
   "metadata": {},
   "outputs": [
    {
     "name": "stdout",
     "output_type": "stream",
     "text": [
      "\n",
      "sex:\n",
      "male      5031\n",
      "female    4969\n",
      "Name: sex, dtype: int64\n",
      "\n",
      "ethnicity:\n",
      "group C    3193\n",
      "group D    2599\n",
      "group B    2064\n",
      "group E    1381\n",
      "group A     763\n",
      "Name: ethnicity, dtype: int64\n",
      "\n",
      "parent_ed:\n",
      "some college          2297\n",
      "associate's degree    1987\n",
      "high school           1987\n",
      "some high school      1863\n",
      "bachelor's degree     1230\n",
      "master's degree        636\n",
      "Name: parent_ed, dtype: int64\n",
      "\n",
      "lunch:\n",
      "standard        6577\n",
      "free/reduced    3423\n",
      "Name: lunch, dtype: int64\n"
     ]
    }
   ],
   "source": [
    "# Print the value counts for the first 4 columns (everything except the scores) in the dataframe:\n",
    "for col in stu_perf_df.columns[0:4]:\n",
    "    print(\"\\n\" + str(col) + \":\\n\" + str(stu_perf_df[col].value_counts()))"
   ]
  },
  {
   "cell_type": "markdown",
   "metadata": {},
   "source": [
    "<h3>We have an even split between the sexes but in ethnic groups Group C appears to be the majority while Group A is the minority. The parent education is pretty even until the lower amounts of bachelor's and master's degrees, which is to be expected. Finally, most students get the standard lunch while about 34% have a free or reduced lunch. Overall I don't think there are going to be any major issues with this spread."
   ]
  },
  {
   "cell_type": "markdown",
   "metadata": {},
   "source": [
    "<h3>For visualizations, let's start with the various ethnic groups and sex:"
   ]
  },
  {
   "cell_type": "code",
   "execution_count": 13,
   "metadata": {},
   "outputs": [
    {
     "data": {
      "text/plain": [
       "Text(0.5, 1.0, 'Average Total Test Score vs. Ethnicity and Sex')"
      ]
     },
     "execution_count": 13,
     "metadata": {},
     "output_type": "execute_result"
    },
    {
     "data": {
      "image/png": "[encoded data removed]",
      "text/plain": [
       "<Figure size 720x720 with 1 Axes>"
      ]
     },
     "metadata": {
      "needs_background": "light"
     },
     "output_type": "display_data"
    }
   ],
   "source": [
    "fig = plt.subplots(figsize=(10,10))\n",
    "# Create barplot of ethnicity vs. avg_score split between sexes:\n",
    "sns.barplot(x ='ethnicity',\n",
    "            y ='avg_score',\n",
    "            data = stu_perf_df,\n",
    "            order = ['group A', 'group B', 'group C', 'group D', 'group E'],\n",
    "            hue='sex',\n",
    "            ci=None)\n",
    "plt.title(\"Average Total Test Score vs. Ethnicity and Sex\", fontdict={'fontsize':20})"
   ]
  },
  {
   "cell_type": "markdown",
   "metadata": {},
   "source": [
    "<h3>The average score of ethnic groups D and E seem to be slightly higher than the average scores of the other groups. This could indicate some kind of underlying socioeconomic impact or could just be random noise. It also seems that female students perform better on the tests than male students. "
   ]
  },
  {
   "cell_type": "code",
   "execution_count": 14,
   "metadata": {},
   "outputs": [
    {
     "data": {
      "text/plain": [
       "Text(0.5, 1.0, 'Average Total Score vs. Lunch Status')"
      ]
     },
     "execution_count": 14,
     "metadata": {},
     "output_type": "execute_result"
    },
    {
     "data": {
      "image/png": "[encoded data removed]",
      "text/plain": [
       "<Figure size 720x720 with 1 Axes>"
      ]
     },
     "metadata": {
      "needs_background": "light"
     },
     "output_type": "display_data"
    }
   ],
   "source": [
    "fig = plt.subplots(figsize=(10,10))\n",
    "# Create barplot of ethnicity vs. avg_score split between standard or free/reduced lunch:\n",
    "sns.barplot(x ='lunch',\n",
    "            y ='avg_score',\n",
    "            data = stu_perf_df,\n",
    "            ci=None)\n",
    "plt.title(\"Average Total Score vs. Lunch Status\", fontdict={'fontsize':20})"
   ]
  },
  {
   "cell_type": "markdown",
   "metadata": {},
   "source": [
    "<h3>There is a significant difference in average test scores between the students who have standard lunches and those who have free/reduced lunches. This could hint at an underlying socioeconomic impact on test performance. It would be interesting to see how this correlates with parental education."
   ]
  },
  {
   "cell_type": "code",
   "execution_count": 15,
   "metadata": {},
   "outputs": [
    {
     "data": {
      "text/plain": [
       "Text(0.5, 1.0, 'Average Total Score vs. Parental Education')"
      ]
     },
     "execution_count": 15,
     "metadata": {},
     "output_type": "execute_result"
    },
    {
     "data": {
      "image/png": "[encoded data removed]",
      "text/plain": [
       "<Figure size 720x720 with 1 Axes>"
      ]
     },
     "metadata": {
      "needs_background": "light"
     },
     "output_type": "display_data"
    }
   ],
   "source": [
    "\n",
    "fig = plt.subplots(figsize=(10,10))\n",
    "sns.barplot(x='parent_ed',\n",
    "            y='avg_score',\n",
    "            order=['some high school',\n",
    "                   'high school',\n",
    "                   'some college',\n",
    "                   'associate\\'s degree',\n",
    "                   'bachelor\\'s degree',\n",
    "                   'master\\'s degree'],\n",
    "            data=stu_perf_df,\n",
    "            ci=None)\n",
    "plt.title(\"Average Total Score vs. Parental Education\", fontdict={'fontsize':20})"
   ]
  },
  {
   "cell_type": "markdown",
   "metadata": {},
   "source": [
    "<h3>Not surprisingly, the students tend to perform better on the tests if their parents are more educated."
   ]
  },
  {
   "cell_type": "code",
   "execution_count": 16,
   "metadata": {},
   "outputs": [
    {
     "data": {
      "text/plain": [
       "Text(0.5, 1.0, 'Average Total Score vs. Parental Education and Lunch Status')"
      ]
     },
     "execution_count": 16,
     "metadata": {},
     "output_type": "execute_result"
    },
    {
     "data": {
      "image/png": "[encoded data removed]",
      "text/plain": [
       "<Figure size 720x720 with 1 Axes>"
      ]
     },
     "metadata": {
      "needs_background": "light"
     },
     "output_type": "display_data"
    }
   ],
   "source": [
    "fig = plt.subplots(figsize=(10,10))\n",
    "sns.barplot(x='parent_ed',\n",
    "            y='avg_score',\n",
    "            order=['some high school',\n",
    "                   'high school',\n",
    "                   'some college',\n",
    "                   'associate\\'s degree',\n",
    "                   'bachelor\\'s degree',\n",
    "                   'master\\'s degree'],\n",
    "            data=stu_perf_df,\n",
    "            hue='lunch',\n",
    "            ci=None)\n",
    "plt.title(\"Average Total Score vs. Parental Education and Lunch Status\", fontdict={'fontsize':20})"
   ]
  },
  {
   "cell_type": "markdown",
   "metadata": {},
   "source": [
    "<h3>It's clear that the best performing students are those who have the standard lunch and who have more educated parents."
   ]
  },
  {
   "cell_type": "code",
   "execution_count": 17,
   "metadata": {},
   "outputs": [
    {
     "data": {
      "text/plain": [
       "Text(0.5, 1.0, 'Average Total Score vs. Parental Education and Test Prep Status')"
      ]
     },
     "execution_count": 17,
     "metadata": {},
     "output_type": "execute_result"
    },
    {
     "data": {
      "image/png": "[encoded data removed]",
      "text/plain": [
       "<Figure size 720x720 with 1 Axes>"
      ]
     },
     "metadata": {
      "needs_background": "light"
     },
     "output_type": "display_data"
    }
   ],
   "source": [
    "fig = plt.subplots(figsize=(10,10))\n",
    "sns.barplot(x='parent_ed',\n",
    "            y='avg_score',\n",
    "            order=['some high school',\n",
    "                   'high school',\n",
    "                   'some college',\n",
    "                   'associate\\'s degree',\n",
    "                   'bachelor\\'s degree',\n",
    "                   'master\\'s degree'],\n",
    "            data=stu_perf_df,\n",
    "            hue='test_prep',\n",
    "            ci=None)\n",
    "plt.title(\"Average Total Score vs. Parental Education and Test Prep Status\", fontdict={'fontsize':20})"
   ]
  },
  {
   "cell_type": "markdown",
   "metadata": {},
   "source": [
    "<h3>Completing the test preparation also makes a huge difference in test scores."
   ]
  },
  {
   "cell_type": "markdown",
   "metadata": {},
   "source": [
    "<h3>With the initial analysis complete, the dataframe can be adjusted to make it better for our model:"
   ]
  },
  {
   "cell_type": "code",
   "execution_count": 18,
   "metadata": {},
   "outputs": [
    {
     "data": {
      "text/html": [
       "<div>\n",
       "<style scoped>\n",
       "    .dataframe tbody tr th:only-of-type {\n",
       "        vertical-align: middle;\n",
       "    }\n",
       "\n",
       "    .dataframe tbody tr th {\n",
       "        vertical-align: top;\n",
       "    }\n",
       "\n",
       "    .dataframe thead th {\n",
       "        text-align: right;\n",
       "    }\n",
       "</style>\n",
       "<table border=\"1\" class=\"dataframe\">\n",
       "  <thead>\n",
       "    <tr style=\"text-align: right;\">\n",
       "      <th></th>\n",
       "      <th>sex</th>\n",
       "      <th>ethnicity</th>\n",
       "      <th>parent_ed</th>\n",
       "      <th>lunch</th>\n",
       "      <th>test_prep</th>\n",
       "      <th>math_score</th>\n",
       "      <th>reading_score</th>\n",
       "      <th>writing_score</th>\n",
       "      <th>avg_score</th>\n",
       "    </tr>\n",
       "    <tr>\n",
       "      <th>stu_id</th>\n",
       "      <th></th>\n",
       "      <th></th>\n",
       "      <th></th>\n",
       "      <th></th>\n",
       "      <th></th>\n",
       "      <th></th>\n",
       "      <th></th>\n",
       "      <th></th>\n",
       "      <th></th>\n",
       "    </tr>\n",
       "  </thead>\n",
       "  <tbody>\n",
       "    <tr>\n",
       "      <th>0</th>\n",
       "      <td>male</td>\n",
       "      <td>group B</td>\n",
       "      <td>some high school</td>\n",
       "      <td>standard</td>\n",
       "      <td>none</td>\n",
       "      <td>71</td>\n",
       "      <td>59</td>\n",
       "      <td>54</td>\n",
       "      <td>61.33</td>\n",
       "    </tr>\n",
       "    <tr>\n",
       "      <th>1</th>\n",
       "      <td>female</td>\n",
       "      <td>group B</td>\n",
       "      <td>some high school</td>\n",
       "      <td>free/reduced</td>\n",
       "      <td>none</td>\n",
       "      <td>40</td>\n",
       "      <td>51</td>\n",
       "      <td>49</td>\n",
       "      <td>46.67</td>\n",
       "    </tr>\n",
       "    <tr>\n",
       "      <th>2</th>\n",
       "      <td>male</td>\n",
       "      <td>group B</td>\n",
       "      <td>associate's degree</td>\n",
       "      <td>standard</td>\n",
       "      <td>none</td>\n",
       "      <td>87</td>\n",
       "      <td>73</td>\n",
       "      <td>75</td>\n",
       "      <td>78.33</td>\n",
       "    </tr>\n",
       "    <tr>\n",
       "      <th>3</th>\n",
       "      <td>male</td>\n",
       "      <td>group C</td>\n",
       "      <td>some high school</td>\n",
       "      <td>standard</td>\n",
       "      <td>none</td>\n",
       "      <td>69</td>\n",
       "      <td>53</td>\n",
       "      <td>55</td>\n",
       "      <td>59.00</td>\n",
       "    </tr>\n",
       "    <tr>\n",
       "      <th>4</th>\n",
       "      <td>female</td>\n",
       "      <td>group C</td>\n",
       "      <td>high school</td>\n",
       "      <td>standard</td>\n",
       "      <td>none</td>\n",
       "      <td>74</td>\n",
       "      <td>79</td>\n",
       "      <td>72</td>\n",
       "      <td>75.00</td>\n",
       "    </tr>\n",
       "  </tbody>\n",
       "</table>\n",
       "</div>"
      ],
      "text/plain": [
       "           sex ethnicity           parent_ed         lunch test_prep  \\\n",
       "stu_id                                                                 \n",
       "0         male   group B    some high school      standard      none   \n",
       "1       female   group B    some high school  free/reduced      none   \n",
       "2         male   group B  associate's degree      standard      none   \n",
       "3         male   group C    some high school      standard      none   \n",
       "4       female   group C         high school      standard      none   \n",
       "\n",
       "        math_score  reading_score  writing_score  avg_score  \n",
       "stu_id                                                       \n",
       "0               71             59             54      61.33  \n",
       "1               40             51             49      46.67  \n",
       "2               87             73             75      78.33  \n",
       "3               69             53             55      59.00  \n",
       "4               74             79             72      75.00  "
      ]
     },
     "execution_count": 18,
     "metadata": {},
     "output_type": "execute_result"
    }
   ],
   "source": [
    "# Take a look at what other transformations we can make to better use the columns as features:\n",
    "stu_perf_df.head()"
   ]
  },
  {
   "cell_type": "markdown",
   "metadata": {},
   "source": [
    "<h3>All of these columns except the test scores, of course, should be turned into dummy variables in order to make them machine readable:"
   ]
  },
  {
   "cell_type": "code",
   "execution_count": 19,
   "metadata": {},
   "outputs": [
    {
     "data": {
      "text/html": [
       "<div>\n",
       "<style scoped>\n",
       "    .dataframe tbody tr th:only-of-type {\n",
       "        vertical-align: middle;\n",
       "    }\n",
       "\n",
       "    .dataframe tbody tr th {\n",
       "        vertical-align: top;\n",
       "    }\n",
       "\n",
       "    .dataframe thead th {\n",
       "        text-align: right;\n",
       "    }\n",
       "</style>\n",
       "<table border=\"1\" class=\"dataframe\">\n",
       "  <thead>\n",
       "    <tr style=\"text-align: right;\">\n",
       "      <th></th>\n",
       "      <th>math_score</th>\n",
       "      <th>reading_score</th>\n",
       "      <th>writing_score</th>\n",
       "      <th>avg_score</th>\n",
       "      <th>sex_female</th>\n",
       "      <th>sex_male</th>\n",
       "      <th>ethnicity_group A</th>\n",
       "      <th>ethnicity_group B</th>\n",
       "      <th>ethnicity_group C</th>\n",
       "      <th>ethnicity_group D</th>\n",
       "      <th>...</th>\n",
       "      <th>parent_ed_associate's degree</th>\n",
       "      <th>parent_ed_bachelor's degree</th>\n",
       "      <th>parent_ed_high school</th>\n",
       "      <th>parent_ed_master's degree</th>\n",
       "      <th>parent_ed_some college</th>\n",
       "      <th>parent_ed_some high school</th>\n",
       "      <th>lunch_free/reduced</th>\n",
       "      <th>lunch_standard</th>\n",
       "      <th>test_prep_completed</th>\n",
       "      <th>test_prep_none</th>\n",
       "    </tr>\n",
       "    <tr>\n",
       "      <th>stu_id</th>\n",
       "      <th></th>\n",
       "      <th></th>\n",
       "      <th></th>\n",
       "      <th></th>\n",
       "      <th></th>\n",
       "      <th></th>\n",
       "      <th></th>\n",
       "      <th></th>\n",
       "      <th></th>\n",
       "      <th></th>\n",
       "      <th></th>\n",
       "      <th></th>\n",
       "      <th></th>\n",
       "      <th></th>\n",
       "      <th></th>\n",
       "      <th></th>\n",
       "      <th></th>\n",
       "      <th></th>\n",
       "      <th></th>\n",
       "      <th></th>\n",
       "      <th></th>\n",
       "    </tr>\n",
       "  </thead>\n",
       "  <tbody>\n",
       "    <tr>\n",
       "      <th>0</th>\n",
       "      <td>71</td>\n",
       "      <td>59</td>\n",
       "      <td>54</td>\n",
       "      <td>61.33</td>\n",
       "      <td>0</td>\n",
       "      <td>1</td>\n",
       "      <td>0</td>\n",
       "      <td>1</td>\n",
       "      <td>0</td>\n",
       "      <td>0</td>\n",
       "      <td>...</td>\n",
       "      <td>0</td>\n",
       "      <td>0</td>\n",
       "      <td>0</td>\n",
       "      <td>0</td>\n",
       "      <td>0</td>\n",
       "      <td>1</td>\n",
       "      <td>0</td>\n",
       "      <td>1</td>\n",
       "      <td>0</td>\n",
       "      <td>1</td>\n",
       "    </tr>\n",
       "    <tr>\n",
       "      <th>1</th>\n",
       "      <td>40</td>\n",
       "      <td>51</td>\n",
       "      <td>49</td>\n",
       "      <td>46.67</td>\n",
       "      <td>1</td>\n",
       "      <td>0</td>\n",
       "      <td>0</td>\n",
       "      <td>1</td>\n",
       "      <td>0</td>\n",
       "      <td>0</td>\n",
       "      <td>...</td>\n",
       "      <td>0</td>\n",
       "      <td>0</td>\n",
       "      <td>0</td>\n",
       "      <td>0</td>\n",
       "      <td>0</td>\n",
       "      <td>1</td>\n",
       "      <td>1</td>\n",
       "      <td>0</td>\n",
       "      <td>0</td>\n",
       "      <td>1</td>\n",
       "    </tr>\n",
       "    <tr>\n",
       "      <th>2</th>\n",
       "      <td>87</td>\n",
       "      <td>73</td>\n",
       "      <td>75</td>\n",
       "      <td>78.33</td>\n",
       "      <td>0</td>\n",
       "      <td>1</td>\n",
       "      <td>0</td>\n",
       "      <td>1</td>\n",
       "      <td>0</td>\n",
       "      <td>0</td>\n",
       "      <td>...</td>\n",
       "      <td>1</td>\n",
       "      <td>0</td>\n",
       "      <td>0</td>\n",
       "      <td>0</td>\n",
       "      <td>0</td>\n",
       "      <td>0</td>\n",
       "      <td>0</td>\n",
       "      <td>1</td>\n",
       "      <td>0</td>\n",
       "      <td>1</td>\n",
       "    </tr>\n",
       "    <tr>\n",
       "      <th>3</th>\n",
       "      <td>69</td>\n",
       "      <td>53</td>\n",
       "      <td>55</td>\n",
       "      <td>59.00</td>\n",
       "      <td>0</td>\n",
       "      <td>1</td>\n",
       "      <td>0</td>\n",
       "      <td>0</td>\n",
       "      <td>1</td>\n",
       "      <td>0</td>\n",
       "      <td>...</td>\n",
       "      <td>0</td>\n",
       "      <td>0</td>\n",
       "      <td>0</td>\n",
       "      <td>0</td>\n",
       "      <td>0</td>\n",
       "      <td>1</td>\n",
       "      <td>0</td>\n",
       "      <td>1</td>\n",
       "      <td>0</td>\n",
       "      <td>1</td>\n",
       "    </tr>\n",
       "    <tr>\n",
       "      <th>4</th>\n",
       "      <td>74</td>\n",
       "      <td>79</td>\n",
       "      <td>72</td>\n",
       "      <td>75.00</td>\n",
       "      <td>1</td>\n",
       "      <td>0</td>\n",
       "      <td>0</td>\n",
       "      <td>0</td>\n",
       "      <td>1</td>\n",
       "      <td>0</td>\n",
       "      <td>...</td>\n",
       "      <td>0</td>\n",
       "      <td>0</td>\n",
       "      <td>1</td>\n",
       "      <td>0</td>\n",
       "      <td>0</td>\n",
       "      <td>0</td>\n",
       "      <td>0</td>\n",
       "      <td>1</td>\n",
       "      <td>0</td>\n",
       "      <td>1</td>\n",
       "    </tr>\n",
       "  </tbody>\n",
       "</table>\n",
       "<p>5 rows × 21 columns</p>\n",
       "</div>"
      ],
      "text/plain": [
       "        math_score  reading_score  writing_score  avg_score  sex_female  \\\n",
       "stu_id                                                                    \n",
       "0               71             59             54      61.33           0   \n",
       "1               40             51             49      46.67           1   \n",
       "2               87             73             75      78.33           0   \n",
       "3               69             53             55      59.00           0   \n",
       "4               74             79             72      75.00           1   \n",
       "\n",
       "        sex_male  ethnicity_group A  ethnicity_group B  ethnicity_group C  \\\n",
       "stu_id                                                                      \n",
       "0              1                  0                  1                  0   \n",
       "1              0                  0                  1                  0   \n",
       "2              1                  0                  1                  0   \n",
       "3              1                  0                  0                  1   \n",
       "4              0                  0                  0                  1   \n",
       "\n",
       "        ethnicity_group D  ...  parent_ed_associate's degree  \\\n",
       "stu_id                     ...                                 \n",
       "0                       0  ...                             0   \n",
       "1                       0  ...                             0   \n",
       "2                       0  ...                             1   \n",
       "3                       0  ...                             0   \n",
       "4                       0  ...                             0   \n",
       "\n",
       "        parent_ed_bachelor's degree  parent_ed_high school  \\\n",
       "stu_id                                                       \n",
       "0                                 0                      0   \n",
       "1                                 0                      0   \n",
       "2                                 0                      0   \n",
       "3                                 0                      0   \n",
       "4                                 0                      1   \n",
       "\n",
       "        parent_ed_master's degree  parent_ed_some college  \\\n",
       "stu_id                                                      \n",
       "0                               0                       0   \n",
       "1                               0                       0   \n",
       "2                               0                       0   \n",
       "3                               0                       0   \n",
       "4                               0                       0   \n",
       "\n",
       "        parent_ed_some high school  lunch_free/reduced  lunch_standard  \\\n",
       "stu_id                                                                   \n",
       "0                                1                   0               1   \n",
       "1                                1                   1               0   \n",
       "2                                0                   0               1   \n",
       "3                                1                   0               1   \n",
       "4                                0                   0               1   \n",
       "\n",
       "        test_prep_completed  test_prep_none  \n",
       "stu_id                                       \n",
       "0                         0               1  \n",
       "1                         0               1  \n",
       "2                         0               1  \n",
       "3                         0               1  \n",
       "4                         0               1  \n",
       "\n",
       "[5 rows x 21 columns]"
      ]
     },
     "execution_count": 19,
     "metadata": {},
     "output_type": "execute_result"
    }
   ],
   "source": [
    "# Generate dummy columns for one-hot encoding for sex, ethnicity, parent_ed, lunch, and test_prep:\n",
    "stu_perf_df_cln = pd.get_dummies(stu_perf_df, columns=['sex', 'ethnicity', 'parent_ed', 'lunch', 'test_prep'])\n",
    "stu_perf_df_cln.head()"
   ]
  },
  {
   "cell_type": "code",
   "execution_count": 20,
   "metadata": {},
   "outputs": [],
   "source": [
    "# Now we can drop several of the extra columns that are unnecessary:\n",
    "stu_perf_df_cln.drop(axis=1, columns=['sex_male', 'ethnicity_group E', 'parent_ed_some high school',\n",
    "                          'lunch_free/reduced', 'test_prep_none'], inplace=True)"
   ]
  },
  {
   "cell_type": "code",
   "execution_count": 21,
   "metadata": {},
   "outputs": [
    {
     "data": {
      "text/plain": [
       "Index(['math_score', 'reading_score', 'writing_score', 'avg_score',\n",
       "       'sex_female', 'ethnicity_group A', 'ethnicity_group B',\n",
       "       'ethnicity_group C', 'ethnicity_group D',\n",
       "       'parent_ed_associate's degree', 'parent_ed_bachelor's degree',\n",
       "       'parent_ed_high school', 'parent_ed_master's degree',\n",
       "       'parent_ed_some college', 'lunch_standard', 'test_prep_completed'],\n",
       "      dtype='object')"
      ]
     },
     "execution_count": 21,
     "metadata": {},
     "output_type": "execute_result"
    }
   ],
   "source": [
    "# Take a look at the remaining columns to get an idea of how we can improve their names, etc:\n",
    "stu_perf_df_cln.columns"
   ]
  },
  {
   "cell_type": "code",
   "execution_count": 22,
   "metadata": {},
   "outputs": [],
   "source": [
    "# Shorten virtually all of the column names to be easier to read:\n",
    "stu_perf_df_cln.rename(columns={'sex_female':'female',\n",
    "                                'ethnicity_group A':'eth_A',\n",
    "                                'ethnicity_group B':'eth_B',\n",
    "                                'ethnicity_group C':'eth_C',\n",
    "                                'ethnicity_group D':'eth_D',\n",
    "                                'parent_ed_associate\\'s degree':'p_ed_assc',\n",
    "                                'parent_ed_bachelor\\'s degree':'p_ed_bach',\n",
    "                                'parent_ed_master\\'s degree':'p_ed_mast',\n",
    "                                'parent_ed_some college':'p_ed_som_col',\n",
    "                                'parent_ed_high school':'p_ed_hs',\n",
    "                                'lunch_standard':'std_lunch',\n",
    "                                'test_prep_completed':'test_prep'}, inplace=True)"
   ]
  },
  {
   "cell_type": "markdown",
   "metadata": {},
   "source": [
    "<h3>The features are a lot more managable now and will be legible to the ML models."
   ]
  },
  {
   "cell_type": "code",
   "execution_count": 23,
   "metadata": {},
   "outputs": [
    {
     "data": {
      "text/plain": [
       "['math_score',\n",
       " 'reading_score',\n",
       " 'writing_score',\n",
       " 'avg_score',\n",
       " 'female',\n",
       " 'eth_A',\n",
       " 'eth_B',\n",
       " 'eth_C',\n",
       " 'eth_D',\n",
       " 'p_ed_assc',\n",
       " 'p_ed_bach',\n",
       " 'p_ed_hs',\n",
       " 'p_ed_mast',\n",
       " 'p_ed_som_col',\n",
       " 'std_lunch',\n",
       " 'test_prep']"
      ]
     },
     "execution_count": 23,
     "metadata": {},
     "output_type": "execute_result"
    }
   ],
   "source": [
    "list(stu_perf_df_cln.columns)"
   ]
  },
  {
   "cell_type": "code",
   "execution_count": 24,
   "metadata": {
    "scrolled": true
   },
   "outputs": [],
   "source": [
    "# Reorder the columns to be a little cleaner. Put p_ed in order of increasing education and move scores to right side of DF:\n",
    "stu_perf_df_cln = stu_perf_df_cln[[\n",
    "                                    'female',\n",
    "                                    'eth_A',\n",
    "                                    'eth_B',\n",
    "                                    'eth_C',\n",
    "                                    'eth_D',\n",
    "                                    'p_ed_hs',\n",
    "                                    'p_ed_som_col',\n",
    "                                    'p_ed_assc',\n",
    "                                    'p_ed_bach',\n",
    "                                    'p_ed_mast',\n",
    "                                    'std_lunch',\n",
    "                                    'test_prep',\n",
    "                                    'math_score',\n",
    "                                    'reading_score',\n",
    "                                    'writing_score','avg_score']]"
   ]
  },
  {
   "cell_type": "code",
   "execution_count": 25,
   "metadata": {},
   "outputs": [
    {
     "data": {
      "text/html": [
       "<div>\n",
       "<style scoped>\n",
       "    .dataframe tbody tr th:only-of-type {\n",
       "        vertical-align: middle;\n",
       "    }\n",
       "\n",
       "    .dataframe tbody tr th {\n",
       "        vertical-align: top;\n",
       "    }\n",
       "\n",
       "    .dataframe thead th {\n",
       "        text-align: right;\n",
       "    }\n",
       "</style>\n",
       "<table border=\"1\" class=\"dataframe\">\n",
       "  <thead>\n",
       "    <tr style=\"text-align: right;\">\n",
       "      <th></th>\n",
       "      <th>female</th>\n",
       "      <th>eth_A</th>\n",
       "      <th>eth_B</th>\n",
       "      <th>eth_C</th>\n",
       "      <th>eth_D</th>\n",
       "      <th>p_ed_hs</th>\n",
       "      <th>p_ed_som_col</th>\n",
       "      <th>p_ed_assc</th>\n",
       "      <th>p_ed_bach</th>\n",
       "      <th>p_ed_mast</th>\n",
       "      <th>std_lunch</th>\n",
       "      <th>test_prep</th>\n",
       "      <th>math_score</th>\n",
       "      <th>reading_score</th>\n",
       "      <th>writing_score</th>\n",
       "      <th>avg_score</th>\n",
       "    </tr>\n",
       "    <tr>\n",
       "      <th>stu_id</th>\n",
       "      <th></th>\n",
       "      <th></th>\n",
       "      <th></th>\n",
       "      <th></th>\n",
       "      <th></th>\n",
       "      <th></th>\n",
       "      <th></th>\n",
       "      <th></th>\n",
       "      <th></th>\n",
       "      <th></th>\n",
       "      <th></th>\n",
       "      <th></th>\n",
       "      <th></th>\n",
       "      <th></th>\n",
       "      <th></th>\n",
       "      <th></th>\n",
       "    </tr>\n",
       "  </thead>\n",
       "  <tbody>\n",
       "    <tr>\n",
       "      <th>0</th>\n",
       "      <td>0</td>\n",
       "      <td>0</td>\n",
       "      <td>1</td>\n",
       "      <td>0</td>\n",
       "      <td>0</td>\n",
       "      <td>0</td>\n",
       "      <td>0</td>\n",
       "      <td>0</td>\n",
       "      <td>0</td>\n",
       "      <td>0</td>\n",
       "      <td>1</td>\n",
       "      <td>0</td>\n",
       "      <td>71</td>\n",
       "      <td>59</td>\n",
       "      <td>54</td>\n",
       "      <td>61.33</td>\n",
       "    </tr>\n",
       "    <tr>\n",
       "      <th>1</th>\n",
       "      <td>1</td>\n",
       "      <td>0</td>\n",
       "      <td>1</td>\n",
       "      <td>0</td>\n",
       "      <td>0</td>\n",
       "      <td>0</td>\n",
       "      <td>0</td>\n",
       "      <td>0</td>\n",
       "      <td>0</td>\n",
       "      <td>0</td>\n",
       "      <td>0</td>\n",
       "      <td>0</td>\n",
       "      <td>40</td>\n",
       "      <td>51</td>\n",
       "      <td>49</td>\n",
       "      <td>46.67</td>\n",
       "    </tr>\n",
       "    <tr>\n",
       "      <th>2</th>\n",
       "      <td>0</td>\n",
       "      <td>0</td>\n",
       "      <td>1</td>\n",
       "      <td>0</td>\n",
       "      <td>0</td>\n",
       "      <td>0</td>\n",
       "      <td>0</td>\n",
       "      <td>1</td>\n",
       "      <td>0</td>\n",
       "      <td>0</td>\n",
       "      <td>1</td>\n",
       "      <td>0</td>\n",
       "      <td>87</td>\n",
       "      <td>73</td>\n",
       "      <td>75</td>\n",
       "      <td>78.33</td>\n",
       "    </tr>\n",
       "    <tr>\n",
       "      <th>3</th>\n",
       "      <td>0</td>\n",
       "      <td>0</td>\n",
       "      <td>0</td>\n",
       "      <td>1</td>\n",
       "      <td>0</td>\n",
       "      <td>0</td>\n",
       "      <td>0</td>\n",
       "      <td>0</td>\n",
       "      <td>0</td>\n",
       "      <td>0</td>\n",
       "      <td>1</td>\n",
       "      <td>0</td>\n",
       "      <td>69</td>\n",
       "      <td>53</td>\n",
       "      <td>55</td>\n",
       "      <td>59.00</td>\n",
       "    </tr>\n",
       "    <tr>\n",
       "      <th>4</th>\n",
       "      <td>1</td>\n",
       "      <td>0</td>\n",
       "      <td>0</td>\n",
       "      <td>1</td>\n",
       "      <td>0</td>\n",
       "      <td>1</td>\n",
       "      <td>0</td>\n",
       "      <td>0</td>\n",
       "      <td>0</td>\n",
       "      <td>0</td>\n",
       "      <td>1</td>\n",
       "      <td>0</td>\n",
       "      <td>74</td>\n",
       "      <td>79</td>\n",
       "      <td>72</td>\n",
       "      <td>75.00</td>\n",
       "    </tr>\n",
       "    <tr>\n",
       "      <th>5</th>\n",
       "      <td>0</td>\n",
       "      <td>0</td>\n",
       "      <td>0</td>\n",
       "      <td>0</td>\n",
       "      <td>1</td>\n",
       "      <td>0</td>\n",
       "      <td>0</td>\n",
       "      <td>0</td>\n",
       "      <td>0</td>\n",
       "      <td>1</td>\n",
       "      <td>1</td>\n",
       "      <td>0</td>\n",
       "      <td>95</td>\n",
       "      <td>80</td>\n",
       "      <td>82</td>\n",
       "      <td>85.67</td>\n",
       "    </tr>\n",
       "    <tr>\n",
       "      <th>6</th>\n",
       "      <td>0</td>\n",
       "      <td>0</td>\n",
       "      <td>0</td>\n",
       "      <td>0</td>\n",
       "      <td>1</td>\n",
       "      <td>0</td>\n",
       "      <td>0</td>\n",
       "      <td>1</td>\n",
       "      <td>0</td>\n",
       "      <td>0</td>\n",
       "      <td>1</td>\n",
       "      <td>1</td>\n",
       "      <td>94</td>\n",
       "      <td>91</td>\n",
       "      <td>84</td>\n",
       "      <td>89.67</td>\n",
       "    </tr>\n",
       "    <tr>\n",
       "      <th>7</th>\n",
       "      <td>0</td>\n",
       "      <td>0</td>\n",
       "      <td>1</td>\n",
       "      <td>0</td>\n",
       "      <td>0</td>\n",
       "      <td>0</td>\n",
       "      <td>1</td>\n",
       "      <td>0</td>\n",
       "      <td>0</td>\n",
       "      <td>0</td>\n",
       "      <td>1</td>\n",
       "      <td>0</td>\n",
       "      <td>63</td>\n",
       "      <td>59</td>\n",
       "      <td>59</td>\n",
       "      <td>60.33</td>\n",
       "    </tr>\n",
       "    <tr>\n",
       "      <th>8</th>\n",
       "      <td>0</td>\n",
       "      <td>0</td>\n",
       "      <td>0</td>\n",
       "      <td>0</td>\n",
       "      <td>0</td>\n",
       "      <td>0</td>\n",
       "      <td>0</td>\n",
       "      <td>0</td>\n",
       "      <td>1</td>\n",
       "      <td>0</td>\n",
       "      <td>1</td>\n",
       "      <td>1</td>\n",
       "      <td>89</td>\n",
       "      <td>84</td>\n",
       "      <td>87</td>\n",
       "      <td>86.67</td>\n",
       "    </tr>\n",
       "    <tr>\n",
       "      <th>9</th>\n",
       "      <td>1</td>\n",
       "      <td>0</td>\n",
       "      <td>0</td>\n",
       "      <td>0</td>\n",
       "      <td>0</td>\n",
       "      <td>0</td>\n",
       "      <td>1</td>\n",
       "      <td>0</td>\n",
       "      <td>0</td>\n",
       "      <td>0</td>\n",
       "      <td>1</td>\n",
       "      <td>1</td>\n",
       "      <td>82</td>\n",
       "      <td>87</td>\n",
       "      <td>84</td>\n",
       "      <td>84.33</td>\n",
       "    </tr>\n",
       "  </tbody>\n",
       "</table>\n",
       "</div>"
      ],
      "text/plain": [
       "        female  eth_A  eth_B  eth_C  eth_D  p_ed_hs  p_ed_som_col  p_ed_assc  \\\n",
       "stu_id                                                                         \n",
       "0            0      0      1      0      0        0             0          0   \n",
       "1            1      0      1      0      0        0             0          0   \n",
       "2            0      0      1      0      0        0             0          1   \n",
       "3            0      0      0      1      0        0             0          0   \n",
       "4            1      0      0      1      0        1             0          0   \n",
       "5            0      0      0      0      1        0             0          0   \n",
       "6            0      0      0      0      1        0             0          1   \n",
       "7            0      0      1      0      0        0             1          0   \n",
       "8            0      0      0      0      0        0             0          0   \n",
       "9            1      0      0      0      0        0             1          0   \n",
       "\n",
       "        p_ed_bach  p_ed_mast  std_lunch  test_prep  math_score  reading_score  \\\n",
       "stu_id                                                                          \n",
       "0               0          0          1          0          71             59   \n",
       "1               0          0          0          0          40             51   \n",
       "2               0          0          1          0          87             73   \n",
       "3               0          0          1          0          69             53   \n",
       "4               0          0          1          0          74             79   \n",
       "5               0          1          1          0          95             80   \n",
       "6               0          0          1          1          94             91   \n",
       "7               0          0          1          0          63             59   \n",
       "8               1          0          1          1          89             84   \n",
       "9               0          0          1          1          82             87   \n",
       "\n",
       "        writing_score  avg_score  \n",
       "stu_id                            \n",
       "0                  54      61.33  \n",
       "1                  49      46.67  \n",
       "2                  75      78.33  \n",
       "3                  55      59.00  \n",
       "4                  72      75.00  \n",
       "5                  82      85.67  \n",
       "6                  84      89.67  \n",
       "7                  59      60.33  \n",
       "8                  87      86.67  \n",
       "9                  84      84.33  "
      ]
     },
     "execution_count": 25,
     "metadata": {},
     "output_type": "execute_result"
    }
   ],
   "source": [
    "# Make sure our final, cleaned up dataset looks good:\n",
    "stu_perf_df_cln.head(10)"
   ]
  },
  {
   "cell_type": "code",
   "execution_count": 26,
   "metadata": {},
   "outputs": [],
   "source": [
    "# Save the cleaned up, one-hot encoded dataframe into csv:\n",
    "stu_perf_df_cln.to_csv('../Datasets/stu_perf_clean.csv')"
   ]
  },
  {
   "cell_type": "markdown",
   "metadata": {},
   "source": [
    "<h3>Now to create a one-hot encoded version of the test dataset:"
   ]
  },
  {
   "cell_type": "code",
   "execution_count": 27,
   "metadata": {},
   "outputs": [],
   "source": [
    "# Read in the test data as a dataframe:\n",
    "test_data_df = pd.read_csv('../Datasets/test_data_raw.csv')"
   ]
  },
  {
   "cell_type": "code",
   "execution_count": 28,
   "metadata": {},
   "outputs": [],
   "source": [
    "# Quickly apply all the same transformations that the training dataset went through for the test dataset\n",
    "# And save it in the same Datasets folder:\n",
    "test_data_df.index.name = 'stu_id'\n",
    "\n",
    "test_data_df.rename(columns={'gender':'sex',\n",
    "                            'race/ethnicity':'ethnicity',\n",
    "                            'parental level of education':'parent_ed',\n",
    "                            'test preparation course':'test_prep',\n",
    "                            'math score':'math_score',\n",
    "                            'reading score':'reading_score',\n",
    "                            'writing score':'writing_score'}, inplace=True)\n",
    "\n",
    "test_data_df['avg_score'] = ((test_data_df['math_score'] + test_data_df['reading_score'] + test_data_df['writing_score'])/3)\n",
    "\n",
    "test_data_df.avg_score = test_data_df.avg_score.round(2)\n",
    "\n",
    "test_data_df_cln = pd.get_dummies(test_data_df, columns=['sex', 'ethnicity', 'parent_ed', 'lunch', 'test_prep'])\n",
    "\n",
    "test_data_df_cln.drop(axis=1, columns=['sex_male', 'ethnicity_group E', 'parent_ed_some high school','lunch_free/reduced', 'test_prep_none'], inplace=True)\n",
    "\n",
    "test_data_df_cln.rename(columns={'sex_female':'female',\n",
    "                                'ethnicity_group A':'eth_A',\n",
    "                                'ethnicity_group B':'eth_B',\n",
    "                                'ethnicity_group C':'eth_C',\n",
    "                                'ethnicity_group D':'eth_D',\n",
    "                                'parent_ed_associate\\'s degree':'p_ed_assc',\n",
    "                                'parent_ed_bachelor\\'s degree':'p_ed_bach',\n",
    "                                'parent_ed_master\\'s degree':'p_ed_mast',\n",
    "                                'parent_ed_some college':'p_ed_som_col',\n",
    "                                'parent_ed_high school':'p_ed_hs',\n",
    "                                'lunch_standard':'std_lunch',\n",
    "                                'test_prep_completed':'test_prep'}, inplace=True)\n",
    "\n",
    "test_data_df_cln = test_data_df_cln[[\n",
    "                                    'female',\n",
    "                                    'eth_A',\n",
    "                                    'eth_B',\n",
    "                                    'eth_C',\n",
    "                                    'eth_D',\n",
    "                                    'p_ed_hs',\n",
    "                                    'p_ed_som_col',\n",
    "                                    'p_ed_assc',\n",
    "                                    'p_ed_bach',\n",
    "                                    'p_ed_mast',\n",
    "                                    'std_lunch',\n",
    "                                    'test_prep',\n",
    "                                    'math_score',\n",
    "                                    'reading_score',\n",
    "                                    'writing_score','avg_score']]\n",
    "\n",
    "test_data_df_cln.to_csv('../Datasets/test_data_clean.csv')"
   ]
  },
  {
   "cell_type": "markdown",
   "metadata": {},
   "source": [
    "<h3>Now we have the clean and properly encoded training and test datasets that are needed for the model."
   ]
  },
  {
   "cell_type": "code",
   "execution_count": null,
   "metadata": {},
   "outputs": [],
   "source": []
  }
 ],
 "metadata": {
  "kernelspec": {
   "display_name": "Python 3",
   "language": "python",
   "name": "python3"
  },
  "language_info": {
   "codemirror_mode": {
    "name": "ipython",
    "version": 3
   },
   "file_extension": ".py",
   "mimetype": "text/x-python",
   "name": "python",
   "nbconvert_exporter": "python",
   "pygments_lexer": "ipython3",
   "version": "3.8.3"
  }
 },
 "nbformat": 4,
 "nbformat_minor": 4
}
