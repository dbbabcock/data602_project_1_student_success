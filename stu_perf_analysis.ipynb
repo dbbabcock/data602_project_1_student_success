{
 "cells": [
  {
   "cell_type": "code",
   "execution_count": 1,
   "metadata": {},
   "outputs": [
    {
     "name": "stdout",
     "output_type": "stream",
     "text": [
      "Pandas version used: 1.0.5\n",
      "Matplotlib version used: 3.2.2\n",
      "Numpy version used: 1.18.5\n",
      "Seaborn version used: 0.10.1\n",
      "Statsmodels version used: 0.11.1\n",
      "Scikit-learn version used: 0.23.1\n"
     ]
    }
   ],
   "source": [
    "import pandas as pd\n",
    "import matplotlib\n",
    "import matplotlib.pyplot as plt\n",
    "import numpy as np\n",
    "import seaborn as sns\n",
    "import statsmodels.api as sm\n",
    "import statsmodels.formula.api as smf\n",
    "import sklearn\n",
    "from sklearn import tree\n",
    "from sklearn.metrics import mean_squared_error\n",
    "print(\"Pandas version used: \" + pd.__version__)\n",
    "print(\"Matplotlib version used: \" + plt.matplotlib.__version__)\n",
    "print(\"Numpy version used: \" + np.__version__)\n",
    "print(\"Seaborn version used: \" + sns.__version__)\n",
    "print(\"Statsmodels version used: \" + sm.__version__)\n",
    "print(\"Scikit-learn version used: \" + sklearn.__version__)"
   ]
  },
  {
   "cell_type": "markdown",
   "metadata": {},
   "source": [
    "<h3>In this notebook I will begin using decision trees to see if the scores for the various tests and the average score for all tests can be predicted by the various features given concerning each student.\n",
    "    \n",
    "<br>There is a training dataset of 10,000 rows and a test dataset of 10,000 rows, so no need to do a train_test_split. The test dataset has not been used for analysis or modeling before now."
   ]
  },
  {
   "cell_type": "code",
   "execution_count": 2,
   "metadata": {},
   "outputs": [],
   "source": [
    "# Read in the training dataset:\n",
    "stu_perf_df = pd.read_csv(\"Datasets/stu_perf_clean.csv\",index_col='stu_id')\n",
    "\n",
    "# Read in the testing dataset:\n",
    "test_data_df = pd.read_csv(\"Datasets/test_data_clean.csv\",index_col='stu_id')"
   ]
  },
  {
   "cell_type": "code",
   "execution_count": 3,
   "metadata": {},
   "outputs": [
    {
     "data": {
      "text/html": [
       "<div>\n",
       "<style scoped>\n",
       "    .dataframe tbody tr th:only-of-type {\n",
       "        vertical-align: middle;\n",
       "    }\n",
       "\n",
       "    .dataframe tbody tr th {\n",
       "        vertical-align: top;\n",
       "    }\n",
       "\n",
       "    .dataframe thead th {\n",
       "        text-align: right;\n",
       "    }\n",
       "</style>\n",
       "<table border=\"1\" class=\"dataframe\">\n",
       "  <thead>\n",
       "    <tr style=\"text-align: right;\">\n",
       "      <th></th>\n",
       "      <th>female</th>\n",
       "      <th>eth_A</th>\n",
       "      <th>eth_B</th>\n",
       "      <th>eth_C</th>\n",
       "      <th>eth_D</th>\n",
       "      <th>p_ed_hs</th>\n",
       "      <th>p_ed_som_col</th>\n",
       "      <th>p_ed_assc</th>\n",
       "      <th>p_ed_bach</th>\n",
       "      <th>p_ed_mast</th>\n",
       "      <th>std_lunch</th>\n",
       "      <th>test_prep</th>\n",
       "      <th>math_score</th>\n",
       "      <th>reading_score</th>\n",
       "      <th>writing_score</th>\n",
       "      <th>avg_score</th>\n",
       "    </tr>\n",
       "    <tr>\n",
       "      <th>stu_id</th>\n",
       "      <th></th>\n",
       "      <th></th>\n",
       "      <th></th>\n",
       "      <th></th>\n",
       "      <th></th>\n",
       "      <th></th>\n",
       "      <th></th>\n",
       "      <th></th>\n",
       "      <th></th>\n",
       "      <th></th>\n",
       "      <th></th>\n",
       "      <th></th>\n",
       "      <th></th>\n",
       "      <th></th>\n",
       "      <th></th>\n",
       "      <th></th>\n",
       "    </tr>\n",
       "  </thead>\n",
       "  <tbody>\n",
       "    <tr>\n",
       "      <th>0</th>\n",
       "      <td>0</td>\n",
       "      <td>0</td>\n",
       "      <td>1</td>\n",
       "      <td>0</td>\n",
       "      <td>0</td>\n",
       "      <td>0</td>\n",
       "      <td>0</td>\n",
       "      <td>0</td>\n",
       "      <td>0</td>\n",
       "      <td>0</td>\n",
       "      <td>1</td>\n",
       "      <td>0</td>\n",
       "      <td>71</td>\n",
       "      <td>59</td>\n",
       "      <td>54</td>\n",
       "      <td>61.33</td>\n",
       "    </tr>\n",
       "    <tr>\n",
       "      <th>1</th>\n",
       "      <td>1</td>\n",
       "      <td>0</td>\n",
       "      <td>1</td>\n",
       "      <td>0</td>\n",
       "      <td>0</td>\n",
       "      <td>0</td>\n",
       "      <td>0</td>\n",
       "      <td>0</td>\n",
       "      <td>0</td>\n",
       "      <td>0</td>\n",
       "      <td>0</td>\n",
       "      <td>0</td>\n",
       "      <td>40</td>\n",
       "      <td>51</td>\n",
       "      <td>49</td>\n",
       "      <td>46.67</td>\n",
       "    </tr>\n",
       "    <tr>\n",
       "      <th>2</th>\n",
       "      <td>0</td>\n",
       "      <td>0</td>\n",
       "      <td>1</td>\n",
       "      <td>0</td>\n",
       "      <td>0</td>\n",
       "      <td>0</td>\n",
       "      <td>0</td>\n",
       "      <td>1</td>\n",
       "      <td>0</td>\n",
       "      <td>0</td>\n",
       "      <td>1</td>\n",
       "      <td>0</td>\n",
       "      <td>87</td>\n",
       "      <td>73</td>\n",
       "      <td>75</td>\n",
       "      <td>78.33</td>\n",
       "    </tr>\n",
       "    <tr>\n",
       "      <th>3</th>\n",
       "      <td>0</td>\n",
       "      <td>0</td>\n",
       "      <td>0</td>\n",
       "      <td>1</td>\n",
       "      <td>0</td>\n",
       "      <td>0</td>\n",
       "      <td>0</td>\n",
       "      <td>0</td>\n",
       "      <td>0</td>\n",
       "      <td>0</td>\n",
       "      <td>1</td>\n",
       "      <td>0</td>\n",
       "      <td>69</td>\n",
       "      <td>53</td>\n",
       "      <td>55</td>\n",
       "      <td>59.00</td>\n",
       "    </tr>\n",
       "    <tr>\n",
       "      <th>4</th>\n",
       "      <td>1</td>\n",
       "      <td>0</td>\n",
       "      <td>0</td>\n",
       "      <td>1</td>\n",
       "      <td>0</td>\n",
       "      <td>1</td>\n",
       "      <td>0</td>\n",
       "      <td>0</td>\n",
       "      <td>0</td>\n",
       "      <td>0</td>\n",
       "      <td>1</td>\n",
       "      <td>0</td>\n",
       "      <td>74</td>\n",
       "      <td>79</td>\n",
       "      <td>72</td>\n",
       "      <td>75.00</td>\n",
       "    </tr>\n",
       "  </tbody>\n",
       "</table>\n",
       "</div>"
      ],
      "text/plain": [
       "        female  eth_A  eth_B  eth_C  eth_D  p_ed_hs  p_ed_som_col  p_ed_assc  \\\n",
       "stu_id                                                                         \n",
       "0            0      0      1      0      0        0             0          0   \n",
       "1            1      0      1      0      0        0             0          0   \n",
       "2            0      0      1      0      0        0             0          1   \n",
       "3            0      0      0      1      0        0             0          0   \n",
       "4            1      0      0      1      0        1             0          0   \n",
       "\n",
       "        p_ed_bach  p_ed_mast  std_lunch  test_prep  math_score  reading_score  \\\n",
       "stu_id                                                                          \n",
       "0               0          0          1          0          71             59   \n",
       "1               0          0          0          0          40             51   \n",
       "2               0          0          1          0          87             73   \n",
       "3               0          0          1          0          69             53   \n",
       "4               0          0          1          0          74             79   \n",
       "\n",
       "        writing_score  avg_score  \n",
       "stu_id                            \n",
       "0                  54      61.33  \n",
       "1                  49      46.67  \n",
       "2                  75      78.33  \n",
       "3                  55      59.00  \n",
       "4                  72      75.00  "
      ]
     },
     "execution_count": 3,
     "metadata": {},
     "output_type": "execute_result"
    }
   ],
   "source": [
    "# Make sure the dataset looks good still:\n",
    "stu_perf_df.head()"
   ]
  },
  {
   "cell_type": "code",
   "execution_count": 4,
   "metadata": {},
   "outputs": [
    {
     "data": {
      "text/html": [
       "<div>\n",
       "<style scoped>\n",
       "    .dataframe tbody tr th:only-of-type {\n",
       "        vertical-align: middle;\n",
       "    }\n",
       "\n",
       "    .dataframe tbody tr th {\n",
       "        vertical-align: top;\n",
       "    }\n",
       "\n",
       "    .dataframe thead th {\n",
       "        text-align: right;\n",
       "    }\n",
       "</style>\n",
       "<table border=\"1\" class=\"dataframe\">\n",
       "  <thead>\n",
       "    <tr style=\"text-align: right;\">\n",
       "      <th></th>\n",
       "      <th>female</th>\n",
       "      <th>eth_A</th>\n",
       "      <th>eth_B</th>\n",
       "      <th>eth_C</th>\n",
       "      <th>eth_D</th>\n",
       "      <th>p_ed_hs</th>\n",
       "      <th>p_ed_som_col</th>\n",
       "      <th>p_ed_assc</th>\n",
       "      <th>p_ed_bach</th>\n",
       "      <th>p_ed_mast</th>\n",
       "      <th>std_lunch</th>\n",
       "      <th>test_prep</th>\n",
       "      <th>math_score</th>\n",
       "      <th>reading_score</th>\n",
       "      <th>writing_score</th>\n",
       "      <th>avg_score</th>\n",
       "    </tr>\n",
       "    <tr>\n",
       "      <th>stu_id</th>\n",
       "      <th></th>\n",
       "      <th></th>\n",
       "      <th></th>\n",
       "      <th></th>\n",
       "      <th></th>\n",
       "      <th></th>\n",
       "      <th></th>\n",
       "      <th></th>\n",
       "      <th></th>\n",
       "      <th></th>\n",
       "      <th></th>\n",
       "      <th></th>\n",
       "      <th></th>\n",
       "      <th></th>\n",
       "      <th></th>\n",
       "      <th></th>\n",
       "    </tr>\n",
       "  </thead>\n",
       "  <tbody>\n",
       "    <tr>\n",
       "      <th>0</th>\n",
       "      <td>0</td>\n",
       "      <td>0</td>\n",
       "      <td>0</td>\n",
       "      <td>0</td>\n",
       "      <td>1</td>\n",
       "      <td>0</td>\n",
       "      <td>0</td>\n",
       "      <td>1</td>\n",
       "      <td>0</td>\n",
       "      <td>0</td>\n",
       "      <td>0</td>\n",
       "      <td>0</td>\n",
       "      <td>68</td>\n",
       "      <td>63</td>\n",
       "      <td>60</td>\n",
       "      <td>63.67</td>\n",
       "    </tr>\n",
       "    <tr>\n",
       "      <th>1</th>\n",
       "      <td>1</td>\n",
       "      <td>0</td>\n",
       "      <td>0</td>\n",
       "      <td>1</td>\n",
       "      <td>0</td>\n",
       "      <td>0</td>\n",
       "      <td>0</td>\n",
       "      <td>0</td>\n",
       "      <td>1</td>\n",
       "      <td>0</td>\n",
       "      <td>1</td>\n",
       "      <td>1</td>\n",
       "      <td>54</td>\n",
       "      <td>65</td>\n",
       "      <td>62</td>\n",
       "      <td>60.33</td>\n",
       "    </tr>\n",
       "    <tr>\n",
       "      <th>2</th>\n",
       "      <td>0</td>\n",
       "      <td>0</td>\n",
       "      <td>0</td>\n",
       "      <td>1</td>\n",
       "      <td>0</td>\n",
       "      <td>0</td>\n",
       "      <td>0</td>\n",
       "      <td>1</td>\n",
       "      <td>0</td>\n",
       "      <td>0</td>\n",
       "      <td>0</td>\n",
       "      <td>0</td>\n",
       "      <td>58</td>\n",
       "      <td>53</td>\n",
       "      <td>52</td>\n",
       "      <td>54.33</td>\n",
       "    </tr>\n",
       "    <tr>\n",
       "      <th>3</th>\n",
       "      <td>1</td>\n",
       "      <td>0</td>\n",
       "      <td>1</td>\n",
       "      <td>0</td>\n",
       "      <td>0</td>\n",
       "      <td>0</td>\n",
       "      <td>1</td>\n",
       "      <td>0</td>\n",
       "      <td>0</td>\n",
       "      <td>0</td>\n",
       "      <td>0</td>\n",
       "      <td>1</td>\n",
       "      <td>67</td>\n",
       "      <td>95</td>\n",
       "      <td>91</td>\n",
       "      <td>84.33</td>\n",
       "    </tr>\n",
       "    <tr>\n",
       "      <th>4</th>\n",
       "      <td>0</td>\n",
       "      <td>0</td>\n",
       "      <td>0</td>\n",
       "      <td>0</td>\n",
       "      <td>0</td>\n",
       "      <td>0</td>\n",
       "      <td>1</td>\n",
       "      <td>0</td>\n",
       "      <td>0</td>\n",
       "      <td>0</td>\n",
       "      <td>1</td>\n",
       "      <td>0</td>\n",
       "      <td>95</td>\n",
       "      <td>83</td>\n",
       "      <td>80</td>\n",
       "      <td>86.00</td>\n",
       "    </tr>\n",
       "  </tbody>\n",
       "</table>\n",
       "</div>"
      ],
      "text/plain": [
       "        female  eth_A  eth_B  eth_C  eth_D  p_ed_hs  p_ed_som_col  p_ed_assc  \\\n",
       "stu_id                                                                         \n",
       "0            0      0      0      0      1        0             0          1   \n",
       "1            1      0      0      1      0        0             0          0   \n",
       "2            0      0      0      1      0        0             0          1   \n",
       "3            1      0      1      0      0        0             1          0   \n",
       "4            0      0      0      0      0        0             1          0   \n",
       "\n",
       "        p_ed_bach  p_ed_mast  std_lunch  test_prep  math_score  reading_score  \\\n",
       "stu_id                                                                          \n",
       "0               0          0          0          0          68             63   \n",
       "1               1          0          1          1          54             65   \n",
       "2               0          0          0          0          58             53   \n",
       "3               0          0          0          1          67             95   \n",
       "4               0          0          1          0          95             83   \n",
       "\n",
       "        writing_score  avg_score  \n",
       "stu_id                            \n",
       "0                  60      63.67  \n",
       "1                  62      60.33  \n",
       "2                  52      54.33  \n",
       "3                  91      84.33  \n",
       "4                  80      86.00  "
      ]
     },
     "execution_count": 4,
     "metadata": {},
     "output_type": "execute_result"
    }
   ],
   "source": [
    "# Make sure there are no issues with the test dataset, either:\n",
    "test_data_df.head()"
   ]
  },
  {
   "cell_type": "markdown",
   "metadata": {},
   "source": [
    "<h3>Next I will set all of the training/testing variables for the average_score predicting models:"
   ]
  },
  {
   "cell_type": "code",
   "execution_count": 5,
   "metadata": {},
   "outputs": [],
   "source": [
    "# Set all of the variables for training the models:\n",
    "\n",
    "# Put all of our features into a variable for training:\n",
    "train_cols = stu_perf_df.columns[:-4]\n",
    "X_train = (stu_perf_df[train_cols])\n",
    "\n",
    "# Create y training variable for average score:\n",
    "y_avg_train  = stu_perf_df.avg_score"
   ]
  },
  {
   "cell_type": "code",
   "execution_count": 6,
   "metadata": {},
   "outputs": [],
   "source": [
    "# Set all of the variables for testing the models:\n",
    "\n",
    "# Put all of our features into a variable for testing:\n",
    "test_cols = test_data_df.columns[:-4]\n",
    "X_test = (test_data_df[test_cols])\n",
    "\n",
    "# Create y testing variable for average score:\n",
    "y_avg_test  = test_data_df.avg_score"
   ]
  },
  {
   "cell_type": "markdown",
   "metadata": {},
   "source": [
    "<h3>First, I want to try to apply a least squares approach to predicting the average score:"
   ]
  },
  {
   "cell_type": "code",
   "execution_count": 7,
   "metadata": {},
   "outputs": [
    {
     "name": "stdout",
     "output_type": "stream",
     "text": [
      "                            OLS Regression Results                            \n",
      "==============================================================================\n",
      "Dep. Variable:              avg_score   R-squared:                       0.278\n",
      "Model:                            OLS   Adj. R-squared:                  0.278\n",
      "Method:                 Least Squares   F-statistic:                     321.2\n",
      "Date:                Tue, 13 Oct 2020   Prob (F-statistic):               0.00\n",
      "Time:                        01:45:29   Log-Likelihood:                -39229.\n",
      "No. Observations:               10000   AIC:                         7.848e+04\n",
      "Df Residuals:                    9987   BIC:                         7.858e+04\n",
      "Df Model:                          12                                         \n",
      "Covariance Type:            nonrobust                                         \n",
      "================================================================================\n",
      "                   coef    std err          t      P>|t|      [0.025      0.975]\n",
      "--------------------------------------------------------------------------------\n",
      "const           59.2199      0.475    124.586      0.000      58.288      60.152\n",
      "female           3.8024      0.245     15.511      0.000       3.322       4.283\n",
      "eth_A           -8.8235      0.552    -15.973      0.000      -9.906      -7.741\n",
      "eth_B           -8.6721      0.426    -20.375      0.000      -9.506      -7.838\n",
      "eth_C           -7.7864      0.394    -19.750      0.000      -8.559      -7.014\n",
      "eth_D           -5.2410      0.408    -12.855      0.000      -6.040      -4.442\n",
      "p_ed_hs          2.3358      0.395      5.916      0.000       1.562       3.110\n",
      "p_ed_som_col     3.7565      0.382      9.844      0.000       3.008       4.504\n",
      "p_ed_assc        6.6364      0.395     16.812      0.000       5.863       7.410\n",
      "p_ed_bach        9.6009      0.450     21.344      0.000       8.719      10.483\n",
      "p_ed_mast       10.3296      0.562     18.371      0.000       9.227      11.432\n",
      "std_lunch       10.2052      0.258     39.532      0.000       9.699      10.711\n",
      "test_prep        7.3522      0.259     28.359      0.000       6.844       7.860\n",
      "==============================================================================\n",
      "Omnibus:                      156.380   Durbin-Watson:                   1.986\n",
      "Prob(Omnibus):                  0.000   Jarque-Bera (JB):              131.342\n",
      "Skew:                          -0.216   Prob(JB):                     3.02e-29\n",
      "Kurtosis:                       2.641   Cond. No.                         10.3\n",
      "==============================================================================\n",
      "\n",
      "Warnings:\n",
      "[1] Standard Errors assume that the covariance matrix of the errors is correctly specified.\n",
      "\n",
      "MSE: 207.34079278325333\n",
      "\n",
      "RMSE: 14.399333067307435\n"
     ]
    }
   ],
   "source": [
    "# Add a constant to the training set for linear regression:\n",
    "X_lin_train = sm.add_constant(X_train)\n",
    "\n",
    "# Create the model:\n",
    "lin_avg_mod = sm.OLS(y_avg_train, X_lin_train, hasconst=True)\n",
    "\n",
    "# Fit the model:\n",
    "lin_avg_res = lin_avg_mod.fit()\n",
    "\n",
    "# Get a summary of all of the critical details about the model:\n",
    "print(lin_avg_res.summary())\n",
    "\n",
    "# Including the total MSE and RMSE so we can compare it to the classification trees later:\n",
    "mse = lin_avg_res.mse_total\n",
    "rmse = np.sqrt(lin_avg_res.mse_total)\n",
    "print('\\nMSE: ' + str(mse))\n",
    "print('\\nRMSE: ' + str(rmse))"
   ]
  },
  {
   "cell_type": "markdown",
   "metadata": {},
   "source": [
    "<h3>According to the summary, this model is not great for predicting the average test scores for the students. The R-squared, at around 27-28%, means the average score is not explained well by the independent variables. While all of the variables are important (indicated by their low p-values), they do not seem to be major predictors of the test results."
   ]
  },
  {
   "cell_type": "markdown",
   "metadata": {},
   "source": [
    "<h3>Though not a great model, we can see that the student's parents having a bachelor or master degree has greater weight than some of the other options. So is having the standard lunch, which again suggests some sort of socioeconomic element to improved test performance."
   ]
  },
  {
   "cell_type": "markdown",
   "metadata": {},
   "source": [
    "<h3>The RMSE, at around ~14.3, is not great either, but we've already established that this is not an ideal model for this type of data or that these features are not very good predictors in general."
   ]
  },
  {
   "cell_type": "markdown",
   "metadata": {},
   "source": [
    "<h3>Finally we could plot the residuals to demonstrate the variance present in the model:"
   ]
  },
  {
   "cell_type": "code",
   "execution_count": 8,
   "metadata": {},
   "outputs": [
    {
     "data": {
      "text/plain": [
       "Text(0.5, 1.0, 'OLS Residuals vs. Predicted Test Scores')"
      ]
     },
     "execution_count": 8,
     "metadata": {},
     "output_type": "execute_result"
    },
    {
     "data": {
      "image/png": "[encoded data removed]",
      "text/plain": [
       "<Figure size 432x288 with 1 Axes>"
      ]
     },
     "metadata": {
      "needs_background": "light"
     },
     "output_type": "display_data"
    }
   ],
   "source": [
    "# Prep the test variable:\n",
    "X_lin_avg_test = sm.add_constant(X_test)\n",
    "\n",
    "test_pred = lin_avg_res.predict(X_lin_avg_test)\n",
    "residuals = lin_avg_res.resid\n",
    "\n",
    "# Create a scatter plot of the residuals vs. the test predictions:\n",
    "plt.scatter(test_pred, residuals)\n",
    "plt.xlabel('Predicted Test Score')\n",
    "plt.ylabel('Residual')\n",
    "plt.axhline(y=0, c='r')\n",
    "plt.title(\"OLS Residuals vs. Predicted Test Scores\")"
   ]
  },
  {
   "cell_type": "markdown",
   "metadata": {},
   "source": [
    "<h3>Next, I will look at how well a decision tree can predict the average score based off of the categorical features for each student:"
   ]
  },
  {
   "cell_type": "code",
   "execution_count": 9,
   "metadata": {},
   "outputs": [
    {
     "data": {
      "text/plain": [
       "DecisionTreeRegressor(min_samples_split=100)"
      ]
     },
     "execution_count": 9,
     "metadata": {},
     "output_type": "execute_result"
    }
   ],
   "source": [
    "# Prepare the model. After several iterations, 100 seems to be a good min_samples_split and seems to produce\n",
    "# the best results (hopefully without overfitting):\n",
    "estimator = tree.DecisionTreeRegressor(min_samples_split=100)\n",
    "# Fit the model:\n",
    "estimator.fit(X_train,y_avg_train)"
   ]
  },
  {
   "cell_type": "code",
   "execution_count": 10,
   "metadata": {},
   "outputs": [
    {
     "name": "stdout",
     "output_type": "stream",
     "text": [
      "R^2: 0.24266448825981823\n"
     ]
    }
   ],
   "source": [
    "# Print out the R^2 for the decision tree:\n",
    "est_r_sq = estimator.score(X_test, y_avg_test)\n",
    "print('R^2: ' + str(est_r_sq))"
   ]
  },
  {
   "cell_type": "markdown",
   "metadata": {},
   "source": [
    "<h3>The R^2 for the decision tree seems to be slightly worse than the linear model. 0.24 vs. 0.27. This reinforces the idea that these features are not good explanatory variables for the data."
   ]
  },
  {
   "cell_type": "code",
   "execution_count": 11,
   "metadata": {},
   "outputs": [
    {
     "name": "stdout",
     "output_type": "stream",
     "text": [
      "MSE: 152.60579720880497\n",
      "\n",
      "RMSE: 12.353371896320654\n"
     ]
    }
   ],
   "source": [
    "# Display the total MSE and RMSE for the test data so we can compare it to the linear model:\n",
    "tree_avg_pred = estimator.predict(X_test)\n",
    "\n",
    "tree_mse = mean_squared_error(y_avg_test, tree_avg_pred)\n",
    "tree_rmse = np.sqrt(tree_mse)\n",
    "\n",
    "print('MSE: ' + str(tree_mse))\n",
    "print('\\nRMSE: ' + str(tree_rmse))"
   ]
  },
  {
   "cell_type": "markdown",
   "metadata": {},
   "source": [
    "<h3>The RMSE seems to show a slight improvement over the linear model (12 vs. 14), however."
   ]
  },
  {
   "cell_type": "code",
   "execution_count": 12,
   "metadata": {},
   "outputs": [
    {
     "data": {
      "text/plain": [
       "Text(0.5, 1.0, 'Actual Values vs. Predicted Test Scores via Decision Tree')"
      ]
     },
     "execution_count": 12,
     "metadata": {},
     "output_type": "execute_result"
    },
    {
     "data": {
      "image/png": "[encoded data removed]",
      "text/plain": [
       "<Figure size 432x288 with 1 Axes>"
      ]
     },
     "metadata": {
      "needs_background": "light"
     },
     "output_type": "display_data"
    }
   ],
   "source": [
    "# Create a scatter plot of the residuals vs. the test predictions:\n",
    "plt.scatter(tree_avg_pred, y_avg_test)\n",
    "plt.xlabel('Predicted Test Score')\n",
    "plt.ylabel('Actual Test Score')\n",
    "plt.title(\"Actual Values vs. Predicted Test Scores via Decision Tree\")"
   ]
  },
  {
   "cell_type": "markdown",
   "metadata": {},
   "source": [
    "<h3>While the model seems to get some of the results right (at least there is a mild linear correlation), the model is unable to predict any values lower than 50 and otherwise displays a wide array of variance."
   ]
  },
  {
   "cell_type": "markdown",
   "metadata": {},
   "source": [
    "<h3>In conclusion, while these features bear some impact on the average score that students achieve, they are definitely not the most important features or these are not good models to use with this data. In order to produce a better predictor, additional features should be collected such as previous grades, number of absences, time spend studying, etc. and additional models should be tested."
   ]
  },
  {
   "cell_type": "code",
   "execution_count": null,
   "metadata": {},
   "outputs": [],
   "source": []
  }
 ],
 "metadata": {
  "kernelspec": {
   "display_name": "Python 3",
   "language": "python",
   "name": "python3"
  },
  "language_info": {
   "codemirror_mode": {
    "name": "ipython",
    "version": 3
   },
   "file_extension": ".py",
   "mimetype": "text/x-python",
   "name": "python",
   "nbconvert_exporter": "python",
   "pygments_lexer": "ipython3",
   "version": "3.8.3"
  }
 },
 "nbformat": 4,
 "nbformat_minor": 4
}
